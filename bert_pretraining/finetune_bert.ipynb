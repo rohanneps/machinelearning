{
 "cells": [
  {
   "cell_type": "code",
   "execution_count": 1,
   "id": "85a520f7",
   "metadata": {
    "colab": {
     "base_uri": "https://localhost:8080/"
    },
    "id": "85a520f7",
    "outputId": "8322e4a7-4eba-4715-ec9f-1b5fe6d58e9b"
   },
   "outputs": [
    {
     "name": "stdout",
     "output_type": "stream",
     "text": [
      "Collecting transformers\n",
      "  Downloading transformers-4.14.1-py3-none-any.whl (3.4 MB)\n",
      "\u001b[K     |████████████████████████████████| 3.4 MB 5.3 MB/s \n",
      "\u001b[?25hRequirement already satisfied: requests in /usr/local/lib/python3.7/dist-packages (from transformers) (2.23.0)\n",
      "Collecting huggingface-hub<1.0,>=0.1.0\n",
      "  Downloading huggingface_hub-0.2.1-py3-none-any.whl (61 kB)\n",
      "\u001b[K     |████████████████████████████████| 61 kB 359 kB/s \n",
      "\u001b[?25hRequirement already satisfied: numpy>=1.17 in /usr/local/lib/python3.7/dist-packages (from transformers) (1.19.5)\n",
      "Requirement already satisfied: packaging>=20.0 in /usr/local/lib/python3.7/dist-packages (from transformers) (21.3)\n",
      "Requirement already satisfied: filelock in /usr/local/lib/python3.7/dist-packages (from transformers) (3.4.0)\n",
      "Collecting sacremoses\n",
      "  Downloading sacremoses-0.0.46-py3-none-any.whl (895 kB)\n",
      "\u001b[K     |████████████████████████████████| 895 kB 72.4 MB/s \n",
      "\u001b[?25hRequirement already satisfied: tqdm>=4.27 in /usr/local/lib/python3.7/dist-packages (from transformers) (4.62.3)\n",
      "Collecting tokenizers<0.11,>=0.10.1\n",
      "  Downloading tokenizers-0.10.3-cp37-cp37m-manylinux_2_5_x86_64.manylinux1_x86_64.manylinux_2_12_x86_64.manylinux2010_x86_64.whl (3.3 MB)\n",
      "\u001b[K     |████████████████████████████████| 3.3 MB 77.1 MB/s \n",
      "\u001b[?25hRequirement already satisfied: regex!=2019.12.17 in /usr/local/lib/python3.7/dist-packages (from transformers) (2019.12.20)\n",
      "Requirement already satisfied: importlib-metadata in /usr/local/lib/python3.7/dist-packages (from transformers) (4.8.2)\n",
      "Collecting pyyaml>=5.1\n",
      "  Downloading PyYAML-6.0-cp37-cp37m-manylinux_2_5_x86_64.manylinux1_x86_64.manylinux_2_12_x86_64.manylinux2010_x86_64.whl (596 kB)\n",
      "\u001b[K     |████████████████████████████████| 596 kB 76.6 MB/s \n",
      "\u001b[?25hRequirement already satisfied: typing-extensions>=3.7.4.3 in /usr/local/lib/python3.7/dist-packages (from huggingface-hub<1.0,>=0.1.0->transformers) (3.10.0.2)\n",
      "Requirement already satisfied: pyparsing!=3.0.5,>=2.0.2 in /usr/local/lib/python3.7/dist-packages (from packaging>=20.0->transformers) (3.0.6)\n",
      "Requirement already satisfied: zipp>=0.5 in /usr/local/lib/python3.7/dist-packages (from importlib-metadata->transformers) (3.6.0)\n",
      "Requirement already satisfied: certifi>=2017.4.17 in /usr/local/lib/python3.7/dist-packages (from requests->transformers) (2021.10.8)\n",
      "Requirement already satisfied: idna<3,>=2.5 in /usr/local/lib/python3.7/dist-packages (from requests->transformers) (2.10)\n",
      "Requirement already satisfied: urllib3!=1.25.0,!=1.25.1,<1.26,>=1.21.1 in /usr/local/lib/python3.7/dist-packages (from requests->transformers) (1.24.3)\n",
      "Requirement already satisfied: chardet<4,>=3.0.2 in /usr/local/lib/python3.7/dist-packages (from requests->transformers) (3.0.4)\n",
      "Requirement already satisfied: joblib in /usr/local/lib/python3.7/dist-packages (from sacremoses->transformers) (1.1.0)\n",
      "Requirement already satisfied: click in /usr/local/lib/python3.7/dist-packages (from sacremoses->transformers) (7.1.2)\n",
      "Requirement already satisfied: six in /usr/local/lib/python3.7/dist-packages (from sacremoses->transformers) (1.15.0)\n",
      "Installing collected packages: pyyaml, tokenizers, sacremoses, huggingface-hub, transformers\n",
      "  Attempting uninstall: pyyaml\n",
      "    Found existing installation: PyYAML 3.13\n",
      "    Uninstalling PyYAML-3.13:\n",
      "      Successfully uninstalled PyYAML-3.13\n",
      "Successfully installed huggingface-hub-0.2.1 pyyaml-6.0 sacremoses-0.0.46 tokenizers-0.10.3 transformers-4.14.1\n"
     ]
    }
   ],
   "source": [
    "!pip install transformers"
   ]
  },
  {
   "cell_type": "code",
   "execution_count": 2,
   "id": "2THB3DnJ-OuF",
   "metadata": {
    "id": "2THB3DnJ-OuF"
   },
   "outputs": [],
   "source": [
    "import os\n",
    "import re\n",
    "import json\n",
    "import string\n",
    "import pickle\n",
    "import numpy as np\n",
    "import pandas as pd\n",
    "import tensorflow as tf\n",
    "from matplotlib import pyplot as plt\n",
    "from tensorflow import keras\n",
    "from tensorflow.keras import layers\n",
    "from tokenizers import BertWordPieceTokenizer\n",
    "from transformers import BertTokenizer, TFBertModel"
   ]
  },
  {
   "cell_type": "markdown",
   "id": "Ydd2JBMcWkny",
   "metadata": {
    "id": "Ydd2JBMcWkny"
   },
   "source": [
    "## Configurations"
   ]
  },
  {
   "cell_type": "markdown",
   "id": "dAWfk0k4WoP1",
   "metadata": {
    "id": "dAWfk0k4WoP1"
   },
   "source": [
    "### Models and Tokenizers"
   ]
  },
  {
   "cell_type": "code",
   "execution_count": 3,
   "id": "qoH0cN30xvzu",
   "metadata": {
    "id": "qoH0cN30xvzu"
   },
   "outputs": [],
   "source": [
    "# Configurations\n",
    "max_len = 384\n",
    "\n",
    "MODEL_NAME = \"bert-base-uncased\"\n",
    "# MODEL_NAME = \"bert-base-multilingual-uncased\"\n",
    "\n",
    "VOCAB_NAME = \"bert-base-uncased\"\n",
    "# VOCAB_NAME = \"bert-base-multilingual-uncased\"\n",
    "\n",
    "TOKENIZER_SAVE_PATH = f\"{MODEL_NAME.replace('-','_')}/\""
   ]
  },
  {
   "cell_type": "markdown",
   "id": "nnd5TivoWsSc",
   "metadata": {
    "id": "nnd5TivoWsSc"
   },
   "source": [
    "### Language"
   ]
  },
  {
   "cell_type": "code",
   "execution_count": 4,
   "id": "UmYlYdRsWuyl",
   "metadata": {
    "id": "UmYlYdRsWuyl"
   },
   "outputs": [],
   "source": [
    "LANUGUAGE_CODE = 'fr'\n",
    "RANDOM_SEED = 37"
   ]
  },
  {
   "cell_type": "code",
   "execution_count": 5,
   "id": "aw7ElHpEW43I",
   "metadata": {
    "id": "aw7ElHpEW43I"
   },
   "outputs": [],
   "source": [
    "################# CONFIGURATION ############################\n",
    "TRAINING_TYPE_DICT = {\n",
    "          1: 'Questions, paragraphs and Models are in English',                         # Train for English Questions\n",
    "          2: 'Random Questions in English. Paragraph and Models are in English.', \n",
    "          3: f'Translated Question is in {LANUGUAGE_CODE}. Paragraph and Model are in English',     # Train for other language translated questions\n",
    "          4: f'Random Question in {LANUGUAGE_CODE}. Paragraph and Model are in English'\n",
    "          }\n",
    "\n",
    "TRAINING_TYPE = 1"
   ]
  },
  {
   "cell_type": "code",
   "execution_count": null,
   "id": "1eM1ZSnYitl2",
   "metadata": {
    "id": "1eM1ZSnYitl2"
   },
   "outputs": [],
   "source": [
    "if TRAINING_TYPE == 1:\n",
    "    LANUGUAGE_CODE = 'en'"
   ]
  },
  {
   "cell_type": "markdown",
   "id": "RulIN3mhWyTq",
   "metadata": {
    "id": "RulIN3mhWyTq"
   },
   "source": [
    "### Training"
   ]
  },
  {
   "cell_type": "code",
   "execution_count": 29,
   "id": "3StH2SokBP00",
   "metadata": {
    "id": "3StH2SokBP00"
   },
   "outputs": [],
   "source": [
    "# Model Batch Evaluation Multiple\n",
    "BATCH_EVAL_MULTIPLE = 10      # Number of steps after which evaluation is done as opposed to end of epoch \n",
    "\n",
    "BATCH_SIZE = 128\n",
    "EPOCHS = 6"
   ]
  },
  {
   "cell_type": "markdown",
   "id": "WQb-9jw8gVR0",
   "metadata": {
    "id": "WQb-9jw8gVR0"
   },
   "source": [
    "### Drive Path"
   ]
  },
  {
   "cell_type": "code",
   "execution_count": null,
   "id": "AVAB-J8fgWvb",
   "metadata": {
    "id": "AVAB-J8fgWvb"
   },
   "outputs": [],
   "source": [
    "# MOUNTING DRIVE TO ACCESS DATASET\n",
    "from google.colab import drive\n",
    "drive.mount('/content/drive')"
   ]
  },
  {
   "cell_type": "code",
   "execution_count": null,
   "id": "gvURvkLEgZZx",
   "metadata": {
    "id": "gvURvkLEgZZx"
   },
   "outputs": [],
   "source": [
    "# MOUNT PATH\n",
    "DRIVE_PATH = os.path.join('drive','MyDrive','collab','research', 'bert_qa')\n",
    "\n",
    "# JSON PATH\n",
    "TRAIN_PATH = os.path.join(DRIVE_PATH,'train-v2.0.json')\n",
    "EVAL_PATH = os.path.join(DRIVE_PATH,'dev-v2.0.json')\n",
    "\n",
    "INPUT_DIR = os.path.join(DRIVE_PATH, 'input')\n",
    "\n",
    "TRAINSLATED_QUESTIONS_TRAIN_FILE = os.path.join(INPUT_DIR, 'questions_{}_train.tsv'.format(LANUGUAGE_CODE))\n",
    "TRAINSLATED_QUESTIONS_EVAL_FILE  = os.path.join(INPUT_DIR, 'questions_{}_eval.tsv'.format(LANUGUAGE_CODE))\n",
    "\n",
    "ENGLISH_QUESTION_COL = 'questions'\n",
    "TRANSLATED_QUESTION_COL = 'questions_{}'.format(LANUGUAGE_CODE)\n",
    "\n",
    "\n",
    "# MODEL SAVE PATH\n",
    "# ENGLISH FINETUNED MODEL\n",
    "BERT_FINETUNED_SAVE_PATH = os.path.join(DRIVE_PATH, 'english_bert_finetuned.hdf5')"
   ]
  },
  {
   "cell_type": "markdown",
   "id": "qRmIm6zKib-q",
   "metadata": {
    "id": "qRmIm6zKib-q"
   },
   "source": [
    "#### Data Paths"
   ]
  },
  {
   "cell_type": "code",
   "execution_count": null,
   "id": "-V_d-Kqjii4Z",
   "metadata": {
    "id": "-V_d-Kqjii4Z"
   },
   "outputs": [],
   "source": [
    "# SQUAD SAVE OBJECT FORMAT\n",
    "DATA_DIR = os.path.join(DRIVE_PATH, 'data')\n",
    "\n",
    "SQUAD_OBJ_SAVE_FORMAT = os.path.join(DATA_DIR, '{}_{}_dataset_type_{}_{}.pkl')"
   ]
  },
  {
   "cell_type": "code",
   "execution_count": null,
   "id": "Rnn06le5igcl",
   "metadata": {
    "id": "Rnn06le5igcl"
   },
   "outputs": [],
   "source": [
    "# MODEL EVALUATION OUTPUT FORMAT17\n",
    "MODEL_EVAL_DIR = os.path.join(DRIVE_PATH, 'eval')\n",
    "MODEL_EVAL_SAVE_FORMAT = os.path.join(MODEL_EVAL_DIR, f\"eval_{LANUGUAGE_CODE}_{MODEL_NAME.replace('-','_')}.tsv\")\n",
    "print(f'Evaluation saved path: {MODEL_EVAL_SAVE_FORMAT}')"
   ]
  },
  {
   "cell_type": "code",
   "execution_count": null,
   "id": "RE9yxfbSgfgg",
   "metadata": {
    "id": "RE9yxfbSgfgg"
   },
   "outputs": [],
   "source": [
    "train_translated_df = pd.read_csv(TRAINSLATED_QUESTIONS_TRAIN_FILE, sep='\\t')\n",
    "eval_translated_df = pd.read_csv(TRAINSLATED_QUESTIONS_EVAL_FILE, sep='\\t')"
   ]
  },
  {
   "cell_type": "markdown",
   "id": "4P43BTpujBp8",
   "metadata": {
    "id": "4P43BTpujBp8"
   },
   "source": [
    "### Custom Pretrained Model"
   ]
  },
  {
   "cell_type": "code",
   "execution_count": null,
   "id": "tCB41NdFjEOd",
   "metadata": {
    "id": "tCB41NdFjEOd"
   },
   "outputs": [],
   "source": [
    "# To use custom pretrained BERT model \n",
    "PRETRAINED_MODEL = True\n",
    "# Pretraining has been done in pytorch\n",
    "PRETRAINED_IN_PT = False\n",
    "\n",
    "VOCAB = 'eng'\n",
    "# VOCAB = 'multilingual'"
   ]
  },
  {
   "cell_type": "markdown",
   "id": "toi4oinkW0uL",
   "metadata": {
    "id": "toi4oinkW0uL"
   },
   "source": [
    "## Tokenizer"
   ]
  },
  {
   "cell_type": "code",
   "execution_count": 7,
   "id": "ab8f19f0",
   "metadata": {
    "colab": {
     "base_uri": "https://localhost:8080/",
     "height": 180,
     "referenced_widgets": [
      "171b83c9c5ea4d39bf36f194682765b7",
      "0ee53e6e0b7a4a018c7aa3463d4a50bf",
      "71a5de74963c4236826e62443feb567a",
      "4b5f193d3ea64ab1bf8507e3ccfadb19",
      "c7abdd57aae448659635420f902db5fb",
      "3a0de9bd2c5a4da4bb07f80d389b1b1e",
      "d5a8ba35db4d458b813dadc78677f6b4",
      "d5339b89bb424650aaa9c4718b152010",
      "768a517a24fe49a59fe5bef3286cdb47",
      "63ec30c70ede40759ee5f697833ec2bb",
      "4e873676518c40009b91d1e0e3919156",
      "d03dec07a80a4e0eaf95e1324c3c01d3",
      "3392d659056b4c379dc204a4e516eee9",
      "63fe40847f2a43be8b98029136356d39",
      "44ab4829533c496895bb4574e96a1211",
      "8628626cdb6b429c8bd46515911500db",
      "7547b796298f4951b38b2e1cbfa4cc23",
      "f6eeac8efaf342cfb49ffbf677c6d6cc",
      "f7a6030e6eef4e67ad54cdd063204bc8",
      "41152c4a83c04599a936df1704285486",
      "36a6536ac57e484f9686251e168806bd",
      "d827635d32854157ba985a9d12fce9d7",
      "d2b3833995234fdfba648011c35a827f",
      "78e10d18a2224f93a6a13c6b844097a3",
      "717a61d0a79649ebb5175a3f7c7b324d",
      "847e6b77b12a402786b22b17a3c1426d",
      "9fd143ee31fb4ffea5f00e9d29a06ab9",
      "081fe39dcbcd459b8e7a8f0f151c22e1",
      "c71e1a867a284568be1df1d5fabf3c97",
      "2c5b4f47df1b4d0c97383de2676a0c91",
      "f1d1dc93448443dcabdf0bb74bcd8c00",
      "4cd5b36be95541aa9bd0e21b88ecbb1d",
      "8eeece4868cc45f6af77fe3225042a96",
      "a0c72a3a42c840e8a64c3c830487f709",
      "f4ef55369f384311852d85dc8e614339",
      "8ad4d8ffa66841b49e86d1b9359aa944",
      "aca0f38535834f24bd7dce387fb0e05e",
      "7b847c6e8c76439d8737a088bf9bccd7",
      "1e1131adf2da4aaab83fd546686839af",
      "a4aeb630729545e8b71e67c419c1dafa",
      "12cf826033bb48b2987c04aecfc12fb0",
      "346d86da1e314ec4a39d1c027c084306",
      "f5127e279c8845a3aae6b3676c232d64",
      "a7614eeb91334f57bdd33bc520417ba1"
     ]
    },
    "id": "ab8f19f0",
    "outputId": "4dbc7a8f-7f78-433e-b081-5dd652a624b8"
   },
   "outputs": [
    {
     "data": {
      "application/vnd.jupyter.widget-view+json": {
       "model_id": "171b83c9c5ea4d39bf36f194682765b7",
       "version_major": 2,
       "version_minor": 0
      },
      "text/plain": [
       "Downloading:   0%|          | 0.00/226k [00:00<?, ?B/s]"
      ]
     },
     "metadata": {},
     "output_type": "display_data"
    },
    {
     "data": {
      "application/vnd.jupyter.widget-view+json": {
       "model_id": "d03dec07a80a4e0eaf95e1324c3c01d3",
       "version_major": 2,
       "version_minor": 0
      },
      "text/plain": [
       "Downloading:   0%|          | 0.00/28.0 [00:00<?, ?B/s]"
      ]
     },
     "metadata": {},
     "output_type": "display_data"
    },
    {
     "data": {
      "application/vnd.jupyter.widget-view+json": {
       "model_id": "d2b3833995234fdfba648011c35a827f",
       "version_major": 2,
       "version_minor": 0
      },
      "text/plain": [
       "Downloading:   0%|          | 0.00/455k [00:00<?, ?B/s]"
      ]
     },
     "metadata": {},
     "output_type": "display_data"
    },
    {
     "data": {
      "application/vnd.jupyter.widget-view+json": {
       "model_id": "a0c72a3a42c840e8a64c3c830487f709",
       "version_major": 2,
       "version_minor": 0
      },
      "text/plain": [
       "Downloading:   0%|          | 0.00/570 [00:00<?, ?B/s]"
      ]
     },
     "metadata": {},
     "output_type": "display_data"
    },
    {
     "name": "stdout",
     "output_type": "stream",
     "text": [
      "Using tokenizer: bert-base-uncased\n",
      "Vocabulary size is: 30522\n"
     ]
    }
   ],
   "source": [
    "# Save the slow pretrained tokenizer\n",
    "slow_tokenizer = BertTokenizer.from_pretrained(VOCAB_NAME)\n",
    "print(f'Using tokenizer: {VOCAB_NAME}')\n",
    "print(f'Vocabulary size is: {slow_tokenizer.vocab_size}')\n",
    "\n",
    "\n",
    "if not os.path.exists(TOKENIZER_SAVE_PATH):\n",
    "    os.makedirs(TOKENIZER_SAVE_PATH)\n",
    "\n",
    "slow_tokenizer.save_pretrained(TOKENIZER_SAVE_PATH)\n",
    "\n",
    "\n",
    "# Load the fast tokenizer from saved file\n",
    "tokenizer = BertWordPieceTokenizer(f\"{TOKENIZER_SAVE_PATH}vocab.txt\", lowercase=True)"
   ]
  },
  {
   "cell_type": "markdown",
   "id": "SB9G_EGYUtkG",
   "metadata": {
    "id": "SB9G_EGYUtkG"
   },
   "source": [
    "## Pretrained Model\n",
    "\n",
    "This section is for Pretrained Bert finetuning"
   ]
  },
  {
   "cell_type": "code",
   "execution_count": 10,
   "id": "MzJmI37TUeZ6",
   "metadata": {
    "colab": {
     "base_uri": "https://localhost:8080/"
    },
    "id": "MzJmI37TUeZ6",
    "outputId": "cbb399d0-6c55-4a4f-b562-102fd332e1d7"
   },
   "outputs": [
    {
     "name": "stdout",
     "output_type": "stream",
     "text": [
      "bert-base-uncased\n",
      "Loading custom Pretrained model: drive/MyDrive/collab/research/bert_qa/../bert_scratch/bert_base_uncased_eng_wiki_mlm\n",
      "True\n"
     ]
    }
   ],
   "source": [
    "print(MODEL_NAME)\n",
    "\n",
    "if PRETRAINED_MODEL:\n",
    "    PRETRAINED_DIR = os.path.join(DRIVE_PATH, '..','bert_scratch')\n",
    "    PRE_TRAINED_MODEL_PATH = os.path.join(PRETRAINED_DIR, f\"{MODEL_NAME.replace('-','_')}_{VOCAB}_wiki_mlm\")\n",
    "    print(f'Loading custom Pretrained model: {PRE_TRAINED_MODEL_PATH}')\n",
    "    print(os.path.exists(PRE_TRAINED_MODEL_PATH))\n",
    "    PRETRAINED_IN_PT = True\n"
   ]
  },
  {
   "cell_type": "markdown",
   "id": "zQRCIGGMYU7T",
   "metadata": {
    "id": "zQRCIGGMYU7T"
   },
   "source": [
    "## Preprocessing Dataset"
   ]
  },
  {
   "cell_type": "code",
   "execution_count": 11,
   "id": "f6f5374c",
   "metadata": {
    "id": "f6f5374c"
   },
   "outputs": [],
   "source": [
    "class SquadExample:\n",
    "    def __init__(self, question, context, start_char_idx, answer_text, all_answers):\n",
    "        self.question = question\n",
    "        self.context = context\n",
    "        self.start_char_idx = start_char_idx\n",
    "        self.answer_text = answer_text\n",
    "        self.all_answers = all_answers\n",
    "        self.skip = False\n",
    "\n",
    "    def preprocess(self):\n",
    "        context = self.context\n",
    "        question = self.question\n",
    "        answer_text = self.answer_text\n",
    "        start_char_idx = self.start_char_idx\n",
    "\n",
    "        # Clean context, answer and question\n",
    "        context = \" \".join(str(context).split())\n",
    "        question = \" \".join(str(question).split())\n",
    "        answer = \" \".join(str(answer_text).split())\n",
    "\n",
    "        # Find end character index of answer in context\n",
    "        end_char_idx = start_char_idx + len(answer)\n",
    "        if end_char_idx >= len(context):\n",
    "            self.skip = True\n",
    "            return\n",
    "\n",
    "        # Mark the character indexes in context that are in answer\n",
    "        is_char_in_ans = [0] * len(context)\n",
    "        for idx in range(start_char_idx, end_char_idx):\n",
    "            is_char_in_ans[idx] = 1\n",
    "\n",
    "        # Tokenize context\n",
    "        tokenized_context = tokenizer.encode(context)\n",
    "\n",
    "        # Find tokens that were created from answer characters\n",
    "        ans_token_idx = []\n",
    "        for idx, (start, end) in enumerate(tokenized_context.offsets):\n",
    "            if sum(is_char_in_ans[start:end]) > 0:\n",
    "                ans_token_idx.append(idx)\n",
    "\n",
    "        if len(ans_token_idx) == 0:\n",
    "            self.skip = True\n",
    "            return\n",
    "\n",
    "        # Find start and end token index for tokens from answer\n",
    "        start_token_idx = ans_token_idx[0]\n",
    "        end_token_idx = ans_token_idx[-1]\n",
    "\n",
    "        # Tokenize question\n",
    "        tokenized_question = tokenizer.encode(question)\n",
    "\n",
    "        # Create inputs\n",
    "        input_ids = tokenized_context.ids + tokenized_question.ids[1:]\n",
    "        token_type_ids = [0] * len(tokenized_context.ids) + [1] * len(\n",
    "            tokenized_question.ids[1:]\n",
    "        )\n",
    "        attention_mask = [1] * len(input_ids)\n",
    "\n",
    "        # Pad and create attention masks.\n",
    "        # Skip if truncation is needed\n",
    "        padding_length = max_len - len(input_ids)\n",
    "        if padding_length > 0:  # pad\n",
    "            input_ids = input_ids + ([0] * padding_length)\n",
    "            attention_mask = attention_mask + ([0] * padding_length)\n",
    "            token_type_ids = token_type_ids + ([0] * padding_length)\n",
    "        elif padding_length < 0:  # skip\n",
    "            self.skip = True\n",
    "            return\n",
    "\n",
    "        self.input_ids = input_ids\n",
    "        self.token_type_ids = token_type_ids\n",
    "        self.attention_mask = attention_mask\n",
    "        self.start_token_idx = start_token_idx\n",
    "        self.end_token_idx = end_token_idx\n",
    "        self.context_token_to_char = tokenized_context.offsets"
   ]
  },
  {
   "cell_type": "markdown",
   "id": "xbJhDU9HYZt9",
   "metadata": {
    "id": "xbJhDU9HYZt9"
   },
   "source": [
    "#### Get Required Questions"
   ]
  },
  {
   "cell_type": "code",
   "execution_count": 12,
   "id": "iJE-ckVn_WPu",
   "metadata": {
    "id": "iJE-ckVn_WPu"
   },
   "outputs": [],
   "source": [
    "# GET QUESTION\n",
    "def get_required_question(question, data_split_name='train', training_type=1):\n",
    "  \"\"\"Update the question in english if required\"\"\"\n",
    "  question = question.strip()\n",
    "  if training_type == 1:\n",
    "    return question\n",
    "\n",
    "  # TO HOLD DATAFRAME OF CONCERN\n",
    "  data_df = None     \n",
    "  if data_split_name=='train':  \n",
    "    data_df = train_translated_df\n",
    "  else:\n",
    "    data_df = eval_translated_df\n",
    "  \n",
    "  if training_type == 2:\n",
    "    # FOR RANDOM ENGLISH QUESTION\n",
    "    random_question = data_df[\n",
    "                              data_df[ENGLISH_QUESTION_COL]!=question\n",
    "                            ][ENGLISH_QUESTION_COL].sample(n=1).iloc[0]\n",
    "    return random_question\n",
    "\n",
    "  elif training_type == 3:\n",
    "    # FOR TRANSLATED QUESTION\n",
    "    target_lang_question = data_df[\n",
    "                                    data_df[ENGLISH_QUESTION_COL]==question\n",
    "                                  ][TRANSLATED_QUESTION_COL].iloc[0]\n",
    "    return target_lang_question\n",
    "\n",
    "  else:\n",
    "    # FOR RANDOM TRANSLATED QUESTION\n",
    "    random_question_trans = data_df[\n",
    "                              data_df[ENGLISH_QUESTION_COL]!=question\n",
    "                            ][TRANSLATED_QUESTION_COL].sample(n=1).iloc[0]\n",
    "    return random_question_trans"
   ]
  },
  {
   "cell_type": "markdown",
   "id": "yMMCA9DjYkUk",
   "metadata": {
    "id": "yMMCA9DjYkUk"
   },
   "source": [
    "#### Create Dataset For Bert Finetuning"
   ]
  },
  {
   "cell_type": "code",
   "execution_count": 13,
   "id": "51b02419",
   "metadata": {
    "id": "51b02419"
   },
   "outputs": [],
   "source": [
    "def create_squad_examples(raw_data, data_split_name='train'):\n",
    "    squad_examples = []\n",
    "    for item in raw_data[\"data\"]:\n",
    "        for para in item[\"paragraphs\"]:\n",
    "            context = para[\"context\"]\n",
    "            for qa in para[\"qas\"]:\n",
    "                question = qa[\"question\"]\n",
    "                # Update question if required\n",
    "                question = get_required_question(question, data_split_name, TRAINING_TYPE)\n",
    "                answer_key = 'answers' \n",
    "                if len(qa['answers'])==0:\n",
    "                    # IF THERE IS NO ANSWER KEY\n",
    "                    answer_key = 'plausible_answers'\n",
    "                if len(qa[answer_key])==0:\n",
    "                    # SKIP IF THERE IS NO PLAUSIBLE ANSWER as well\n",
    "                    continue    \n",
    "                answer_text = qa[answer_key][0][\"text\"]\n",
    "                all_answers = [_[\"text\"] for _ in qa[answer_key]]\n",
    "                start_char_idx = qa[answer_key][0][\"answer_start\"]\n",
    "                squad_eg = SquadExample(\n",
    "                    question, context, start_char_idx, answer_text, all_answers\n",
    "                )\n",
    "                squad_eg.preprocess()\n",
    "                squad_examples.append(squad_eg)\n",
    "    return squad_examples"
   ]
  },
  {
   "cell_type": "code",
   "execution_count": 14,
   "id": "43de39f4",
   "metadata": {
    "id": "43de39f4"
   },
   "outputs": [],
   "source": [
    "# CREATE DATASET FOR TRAINING\n",
    "def create_inputs_targets(squad_examples):\n",
    "    dataset_dict = {\n",
    "        \"input_ids\": [],\n",
    "        \"token_type_ids\": [],\n",
    "        \"attention_mask\": [],\n",
    "        \"start_token_idx\": [],\n",
    "        \"end_token_idx\": [],\n",
    "    }\n",
    "    for item in squad_examples:\n",
    "        if item.skip == False:\n",
    "            for key in dataset_dict:\n",
    "                dataset_dict[key].append(getattr(item, key))\n",
    "    for key in dataset_dict:\n",
    "        dataset_dict[key] = np.array(dataset_dict[key])\n",
    "\n",
    "    x = [\n",
    "        dataset_dict[\"input_ids\"],\n",
    "        dataset_dict[\"token_type_ids\"],\n",
    "        dataset_dict[\"attention_mask\"],\n",
    "    ]\n",
    "    y = [dataset_dict[\"start_token_idx\"], dataset_dict[\"end_token_idx\"]]\n",
    "    return x, y"
   ]
  },
  {
   "cell_type": "markdown",
   "id": "0GGi2B1lYnog",
   "metadata": {
    "id": "0GGi2B1lYnog"
   },
   "source": [
    "#### Save and Load Object Helpers"
   ]
  },
  {
   "cell_type": "code",
   "execution_count": 15,
   "id": "3eJ6XkE22Ygv",
   "metadata": {
    "id": "3eJ6XkE22Ygv"
   },
   "outputs": [],
   "source": [
    "def save_object(python_obj: object, file_path: str):\n",
    "    \"\"\"\n",
    "    Save python object into given file location\n",
    "\n",
    "    Args:\n",
    "    -----\n",
    "        python_obj: python object to be saved\n",
    "        file_path (str): location to save the numpy array\n",
    "\n",
    "    Retunrs:\n",
    "    --------\n",
    "        None\n",
    "    \"\"\"\n",
    "    with open(\n",
    "        file_path,\n",
    "        \"wb\",\n",
    "    ) as output:\n",
    "        pickle.dump(python_obj, output, pickle.HIGHEST_PROTOCOL)\n",
    "\n",
    " \n",
    "def load_object(file_path: str)->object:\n",
    "    \"\"\"\n",
    "    Returns saved python object into given file location\n",
    "\n",
    "    Args:\n",
    "    -----\n",
    "        file_path (str): location to save the numpy array\n",
    "\n",
    "    Retunrs:\n",
    "    --------\n",
    "        python object\n",
    "    \"\"\"\n",
    "    with open(\n",
    "        file_path,\n",
    "        \"rb\",\n",
    "    ) as input:\n",
    "        return pickle.load(input)"
   ]
  },
  {
   "cell_type": "markdown",
   "id": "Hpcbc_trYr2x",
   "metadata": {
    "id": "Hpcbc_trYr2x"
   },
   "source": [
    "#### Create Train, Eval Datasets"
   ]
  },
  {
   "cell_type": "code",
   "execution_count": 16,
   "id": "gd3q99lw-8_h",
   "metadata": {
    "colab": {
     "base_uri": "https://localhost:8080/"
    },
    "id": "gd3q99lw-8_h",
    "outputId": "9912a3b8-64c2-4ee8-cca2-41dad4fee09e"
   },
   "outputs": [
    {
     "name": "stdout",
     "output_type": "stream",
     "text": [
      "For language: en\n",
      "For model: bert-base-uncased\n",
      "For training type 1: Questions, paragraphs and Models are in English\n",
      "------------------------\n",
      "Loading drive/MyDrive/collab/research/bert_qa/data/train_en_dataset_type_1_bert_base_uncased.pkl\n",
      "130319 training points created.\n",
      "Loading drive/MyDrive/collab/research/bert_qa/data/eval_en_dataset_type_1_bert_base_uncased.pkl\n",
      "11858 evaluation points created.\n"
     ]
    }
   ],
   "source": [
    "with open(TRAIN_PATH) as f:\n",
    "    raw_train_data = json.load(f)\n",
    "\n",
    "with open(EVAL_PATH) as f:\n",
    "    raw_eval_data = json.load(f)\n",
    "\n",
    "# FOR REPRODUCIBILITY  \n",
    "np.random.seed(RANDOM_SEED)\n",
    "\n",
    "print(f'For language: {LANUGUAGE_CODE}')\n",
    "print(f'For model: {MODEL_NAME}')\n",
    "print(f'For training type {TRAINING_TYPE}: {TRAINING_TYPE_DICT[TRAINING_TYPE]}')\n",
    "\n",
    "print('------------------------')\n",
    "train_squad_path = SQUAD_OBJ_SAVE_FORMAT.format('train', LANUGUAGE_CODE, TRAINING_TYPE, f\"{MODEL_NAME.replace('-','_')}\")\n",
    "if not os.path.exists(train_squad_path):\n",
    "    train_squad_examples = create_squad_examples(raw_train_data, 'train')\n",
    "    print(f'Saving {train_squad_path}')\n",
    "    save_object(train_squad_examples, train_squad_path)\n",
    "else:\n",
    "    print(f'Loading {train_squad_path}')\n",
    "    train_squad_examples = load_object(train_squad_path)\n",
    "\n",
    "x_train, y_train = create_inputs_targets(train_squad_examples)\n",
    "print(f\"{len(train_squad_examples)} training points created.\")\n",
    "\n",
    "\n",
    "eval_squad_path = SQUAD_OBJ_SAVE_FORMAT.format('eval', LANUGUAGE_CODE, TRAINING_TYPE, f\"{MODEL_NAME.replace('-','_')}\")\n",
    "if not os.path.exists(eval_squad_path):\n",
    "    eval_squad_examples = create_squad_examples(raw_eval_data, 'eval')\n",
    "    print(f'Saving {eval_squad_path}')\n",
    "    save_object(eval_squad_examples, eval_squad_path)\n",
    "else:\n",
    "    print(f'Loading {eval_squad_path}')\n",
    "    eval_squad_examples = load_object(eval_squad_path)\n",
    "\n",
    "x_eval, y_eval = create_inputs_targets(eval_squad_examples)\n",
    "print(f\"{len(eval_squad_examples)} evaluation points created.\")"
   ]
  },
  {
   "cell_type": "code",
   "execution_count": 17,
   "id": "WwzGj_9IC0hs",
   "metadata": {
    "colab": {
     "base_uri": "https://localhost:8080/",
     "height": 35
    },
    "id": "WwzGj_9IC0hs",
    "outputId": "62e4d662-bdc7-4612-bfa1-7c23f97d4770"
   },
   "outputs": [
    {
     "data": {
      "application/vnd.google.colaboratory.intrinsic+json": {
       "type": "string"
      },
      "text/plain": [
       "\"When did Beyonce leave Destiny's Child and become a solo singer?\""
      ]
     },
     "execution_count": 17,
     "metadata": {},
     "output_type": "execute_result"
    }
   ],
   "source": [
    "train_squad_examples[2].question"
   ]
  },
  {
   "cell_type": "markdown",
   "id": "ElK3Mzq4ayD1",
   "metadata": {
    "id": "ElK3Mzq4ayD1"
   },
   "source": [
    "## MODEL"
   ]
  },
  {
   "cell_type": "markdown",
   "id": "n4TUTolVa0AH",
   "metadata": {
    "id": "n4TUTolVa0AH"
   },
   "source": [
    "### Custom Pretrained or Original Bert Selection "
   ]
  },
  {
   "cell_type": "code",
   "execution_count": 18,
   "id": "4HH14glqa54h",
   "metadata": {
    "colab": {
     "base_uri": "https://localhost:8080/"
    },
    "id": "4HH14glqa54h",
    "outputId": "4a06582e-98c6-4792-c63e-ad9534ab668d"
   },
   "outputs": [
    {
     "name": "stdout",
     "output_type": "stream",
     "text": [
      "Using custom pretrained model: drive/MyDrive/collab/research/bert_qa/../bert_scratch/bert_base_uncased_eng_wiki_mlm\n"
     ]
    }
   ],
   "source": [
    "if PRETRAINED_MODEL:\n",
    "    MODEL_NAME = PRE_TRAINED_MODEL_PATH\n",
    "    print(f'Using custom pretrained model: {MODEL_NAME}')\n",
    "    PRETRAINED_IN_PT = True"
   ]
  },
  {
   "cell_type": "markdown",
   "id": "uOKJOoGOjg2E",
   "metadata": {
    "id": "uOKJOoGOjg2E"
   },
   "source": [
    "### Model Architecture"
   ]
  },
  {
   "cell_type": "code",
   "execution_count": 30,
   "id": "58365bf3",
   "metadata": {
    "id": "58365bf3"
   },
   "outputs": [],
   "source": [
    "def create_base_model():\n",
    "    ## BERT encoder\n",
    "    print(f'Using the model: {MODEL_NAME}')\n",
    "    encoder = TFBertModel.from_pretrained(MODEL_NAME, from_pt=PRETRAINED_IN_PT)\n",
    "\n",
    "    ## QA Model\n",
    "    input_ids = layers.Input(shape=(max_len,), dtype=tf.int32)\n",
    "    token_type_ids = layers.Input(shape=(max_len,), dtype=tf.int32)\n",
    "    attention_mask = layers.Input(shape=(max_len,), dtype=tf.int32)\n",
    "    embedding = encoder(\n",
    "        input_ids, token_type_ids=token_type_ids, attention_mask=attention_mask\n",
    "    )[0]\n",
    "\n",
    "    start_logits = layers.Dense(1, name=\"start_logit\", use_bias=False)(embedding)\n",
    "    start_logits = layers.Flatten()(start_logits)\n",
    "\n",
    "    end_logits = layers.Dense(1, name=\"end_logit\", use_bias=False)(embedding)\n",
    "    end_logits = layers.Flatten()(end_logits)\n",
    "\n",
    "    start_probs = layers.Activation(keras.activations.softmax)(start_logits)\n",
    "    end_probs = layers.Activation(keras.activations.softmax)(end_logits)\n",
    "\n",
    "    model = keras.Model(\n",
    "        inputs=[input_ids, token_type_ids, attention_mask],\n",
    "        outputs=[start_probs, end_probs],\n",
    "    )\n",
    "    return model"
   ]
  },
  {
   "cell_type": "code",
   "execution_count": 31,
   "id": "07_wuivWbsLi",
   "metadata": {
    "id": "07_wuivWbsLi"
   },
   "outputs": [],
   "source": [
    "def create_model():\n",
    "  \"\"\"\n",
    "  CREATE REQUIRED RANDOM INIT MODEL OR BERT ENGLISH FINE TUNED\n",
    "  \"\"\"\n",
    "  model = create_base_model()\n",
    "\n",
    "  if TRAINING_TYPE not in [1,3]:\n",
    "      print('Using Fine tuned English BERT as base')\n",
    "      # LOAD WEIGHTS FOR ENGLISH FINETUNED BERT\n",
    "      model.load_weights(BERT_FINETUNED_SAVE_PATH)\n",
    "      # FREEZE THE FINETUNED BERT MODEL\n",
    "      model.trainable = False\n",
    "      start_logits = layers.Dense(1, name=\"start_logit\", use_bias=False)(model.layers[3].output[0])\n",
    "      start_logits = layers.Flatten()(start_logits)\n",
    "\n",
    "      end_logits = layers.Dense(1, name=\"end_logit\", use_bias=False)(model.layers[3].output[0])\n",
    "      end_logits = layers.Flatten()(end_logits)\n",
    "\n",
    "      start_probs = layers.Activation(keras.activations.softmax)(start_logits)\n",
    "      end_probs = layers.Activation(keras.activations.softmax)(end_logits)\n",
    "\n",
    "      new_model = keras.Model(\n",
    "          inputs=model.inputs,\n",
    "          outputs=[start_probs, end_probs],\n",
    "      )\n",
    "      model = new_model\n",
    "  else:\n",
    "      print('-----------------------------')\n",
    "      print(f'Finetuning bert model: {MODEL_NAME} using laguage {LANUGUAGE_CODE}')\n",
    "  \n",
    "  loss = keras.losses.SparseCategoricalCrossentropy(from_logits=False)\n",
    "  optimizer = keras.optimizers.Adam(lr=5e-5)\n",
    "  model.compile(optimizer=optimizer, loss=[loss, loss])\n",
    "  \n",
    "  return model"
   ]
  },
  {
   "cell_type": "markdown",
   "id": "mK0nBrFqjlLM",
   "metadata": {
    "id": "mK0nBrFqjlLM"
   },
   "source": [
    "### Use TPU"
   ]
  },
  {
   "cell_type": "code",
   "execution_count": 32,
   "id": "92ffbeae",
   "metadata": {
    "colab": {
     "base_uri": "https://localhost:8080/"
    },
    "id": "92ffbeae",
    "outputId": "1bb3c721-d32a-4337-8b10-b0e11b6470b4"
   },
   "outputs": [
    {
     "name": "stdout",
     "output_type": "stream",
     "text": [
      "INFO:tensorflow:Deallocate tpu buffers before initializing tpu system.\n"
     ]
    },
    {
     "name": "stderr",
     "output_type": "stream",
     "text": [
      "INFO:tensorflow:Deallocate tpu buffers before initializing tpu system.\n"
     ]
    },
    {
     "name": "stdout",
     "output_type": "stream",
     "text": [
      "WARNING:tensorflow:TPU system grpc://10.120.182.194:8470 has already been initialized. Reinitializing the TPU can cause previously created variables on TPU to be lost.\n"
     ]
    },
    {
     "name": "stderr",
     "output_type": "stream",
     "text": [
      "WARNING:tensorflow:TPU system grpc://10.120.182.194:8470 has already been initialized. Reinitializing the TPU can cause previously created variables on TPU to be lost.\n"
     ]
    },
    {
     "name": "stdout",
     "output_type": "stream",
     "text": [
      "INFO:tensorflow:Initializing the TPU system: grpc://10.120.182.194:8470\n"
     ]
    },
    {
     "name": "stderr",
     "output_type": "stream",
     "text": [
      "INFO:tensorflow:Initializing the TPU system: grpc://10.120.182.194:8470\n"
     ]
    },
    {
     "name": "stdout",
     "output_type": "stream",
     "text": [
      "INFO:tensorflow:Finished initializing TPU system.\n"
     ]
    },
    {
     "name": "stderr",
     "output_type": "stream",
     "text": [
      "INFO:tensorflow:Finished initializing TPU system.\n"
     ]
    },
    {
     "name": "stdout",
     "output_type": "stream",
     "text": [
      "INFO:tensorflow:Found TPU system:\n"
     ]
    },
    {
     "name": "stderr",
     "output_type": "stream",
     "text": [
      "INFO:tensorflow:Found TPU system:\n"
     ]
    },
    {
     "name": "stdout",
     "output_type": "stream",
     "text": [
      "INFO:tensorflow:*** Num TPU Cores: 8\n"
     ]
    },
    {
     "name": "stderr",
     "output_type": "stream",
     "text": [
      "INFO:tensorflow:*** Num TPU Cores: 8\n"
     ]
    },
    {
     "name": "stdout",
     "output_type": "stream",
     "text": [
      "INFO:tensorflow:*** Num TPU Workers: 1\n"
     ]
    },
    {
     "name": "stderr",
     "output_type": "stream",
     "text": [
      "INFO:tensorflow:*** Num TPU Workers: 1\n"
     ]
    },
    {
     "name": "stdout",
     "output_type": "stream",
     "text": [
      "INFO:tensorflow:*** Num TPU Cores Per Worker: 8\n"
     ]
    },
    {
     "name": "stderr",
     "output_type": "stream",
     "text": [
      "INFO:tensorflow:*** Num TPU Cores Per Worker: 8\n"
     ]
    },
    {
     "name": "stdout",
     "output_type": "stream",
     "text": [
      "INFO:tensorflow:*** Available Device: _DeviceAttributes(/job:localhost/replica:0/task:0/device:CPU:0, CPU, 0, 0)\n"
     ]
    },
    {
     "name": "stderr",
     "output_type": "stream",
     "text": [
      "INFO:tensorflow:*** Available Device: _DeviceAttributes(/job:localhost/replica:0/task:0/device:CPU:0, CPU, 0, 0)\n"
     ]
    },
    {
     "name": "stdout",
     "output_type": "stream",
     "text": [
      "INFO:tensorflow:*** Available Device: _DeviceAttributes(/job:worker/replica:0/task:0/device:CPU:0, CPU, 0, 0)\n"
     ]
    },
    {
     "name": "stderr",
     "output_type": "stream",
     "text": [
      "INFO:tensorflow:*** Available Device: _DeviceAttributes(/job:worker/replica:0/task:0/device:CPU:0, CPU, 0, 0)\n"
     ]
    },
    {
     "name": "stdout",
     "output_type": "stream",
     "text": [
      "INFO:tensorflow:*** Available Device: _DeviceAttributes(/job:worker/replica:0/task:0/device:TPU:0, TPU, 0, 0)\n"
     ]
    },
    {
     "name": "stderr",
     "output_type": "stream",
     "text": [
      "INFO:tensorflow:*** Available Device: _DeviceAttributes(/job:worker/replica:0/task:0/device:TPU:0, TPU, 0, 0)\n"
     ]
    },
    {
     "name": "stdout",
     "output_type": "stream",
     "text": [
      "INFO:tensorflow:*** Available Device: _DeviceAttributes(/job:worker/replica:0/task:0/device:TPU:1, TPU, 0, 0)\n"
     ]
    },
    {
     "name": "stderr",
     "output_type": "stream",
     "text": [
      "INFO:tensorflow:*** Available Device: _DeviceAttributes(/job:worker/replica:0/task:0/device:TPU:1, TPU, 0, 0)\n"
     ]
    },
    {
     "name": "stdout",
     "output_type": "stream",
     "text": [
      "INFO:tensorflow:*** Available Device: _DeviceAttributes(/job:worker/replica:0/task:0/device:TPU:2, TPU, 0, 0)\n"
     ]
    },
    {
     "name": "stderr",
     "output_type": "stream",
     "text": [
      "INFO:tensorflow:*** Available Device: _DeviceAttributes(/job:worker/replica:0/task:0/device:TPU:2, TPU, 0, 0)\n"
     ]
    },
    {
     "name": "stdout",
     "output_type": "stream",
     "text": [
      "INFO:tensorflow:*** Available Device: _DeviceAttributes(/job:worker/replica:0/task:0/device:TPU:3, TPU, 0, 0)\n"
     ]
    },
    {
     "name": "stderr",
     "output_type": "stream",
     "text": [
      "INFO:tensorflow:*** Available Device: _DeviceAttributes(/job:worker/replica:0/task:0/device:TPU:3, TPU, 0, 0)\n"
     ]
    },
    {
     "name": "stdout",
     "output_type": "stream",
     "text": [
      "INFO:tensorflow:*** Available Device: _DeviceAttributes(/job:worker/replica:0/task:0/device:TPU:4, TPU, 0, 0)\n"
     ]
    },
    {
     "name": "stderr",
     "output_type": "stream",
     "text": [
      "INFO:tensorflow:*** Available Device: _DeviceAttributes(/job:worker/replica:0/task:0/device:TPU:4, TPU, 0, 0)\n"
     ]
    },
    {
     "name": "stdout",
     "output_type": "stream",
     "text": [
      "INFO:tensorflow:*** Available Device: _DeviceAttributes(/job:worker/replica:0/task:0/device:TPU:5, TPU, 0, 0)\n"
     ]
    },
    {
     "name": "stderr",
     "output_type": "stream",
     "text": [
      "INFO:tensorflow:*** Available Device: _DeviceAttributes(/job:worker/replica:0/task:0/device:TPU:5, TPU, 0, 0)\n"
     ]
    },
    {
     "name": "stdout",
     "output_type": "stream",
     "text": [
      "INFO:tensorflow:*** Available Device: _DeviceAttributes(/job:worker/replica:0/task:0/device:TPU:6, TPU, 0, 0)\n"
     ]
    },
    {
     "name": "stderr",
     "output_type": "stream",
     "text": [
      "INFO:tensorflow:*** Available Device: _DeviceAttributes(/job:worker/replica:0/task:0/device:TPU:6, TPU, 0, 0)\n"
     ]
    },
    {
     "name": "stdout",
     "output_type": "stream",
     "text": [
      "INFO:tensorflow:*** Available Device: _DeviceAttributes(/job:worker/replica:0/task:0/device:TPU:7, TPU, 0, 0)\n"
     ]
    },
    {
     "name": "stderr",
     "output_type": "stream",
     "text": [
      "INFO:tensorflow:*** Available Device: _DeviceAttributes(/job:worker/replica:0/task:0/device:TPU:7, TPU, 0, 0)\n"
     ]
    },
    {
     "name": "stdout",
     "output_type": "stream",
     "text": [
      "INFO:tensorflow:*** Available Device: _DeviceAttributes(/job:worker/replica:0/task:0/device:TPU_SYSTEM:0, TPU_SYSTEM, 0, 0)\n"
     ]
    },
    {
     "name": "stderr",
     "output_type": "stream",
     "text": [
      "INFO:tensorflow:*** Available Device: _DeviceAttributes(/job:worker/replica:0/task:0/device:TPU_SYSTEM:0, TPU_SYSTEM, 0, 0)\n"
     ]
    },
    {
     "name": "stdout",
     "output_type": "stream",
     "text": [
      "INFO:tensorflow:*** Available Device: _DeviceAttributes(/job:worker/replica:0/task:0/device:XLA_CPU:0, XLA_CPU, 0, 0)\n"
     ]
    },
    {
     "name": "stderr",
     "output_type": "stream",
     "text": [
      "INFO:tensorflow:*** Available Device: _DeviceAttributes(/job:worker/replica:0/task:0/device:XLA_CPU:0, XLA_CPU, 0, 0)\n"
     ]
    },
    {
     "name": "stdout",
     "output_type": "stream",
     "text": [
      "Using the model: drive/MyDrive/collab/research/bert_qa/../bert_scratch/bert_base_uncased_eng_wiki_mlm\n"
     ]
    },
    {
     "name": "stderr",
     "output_type": "stream",
     "text": [
      "Some weights of the PyTorch model were not used when initializing the TF 2.0 model TFBertModel: ['cls.predictions.decoder.bias', 'cls.predictions.bias', 'bert.embeddings.position_ids', 'cls.predictions.transform.dense.weight', 'cls.predictions.transform.LayerNorm.weight', 'cls.predictions.transform.dense.bias', 'cls.predictions.transform.LayerNorm.bias', 'cls.predictions.decoder.weight']\n",
      "- This IS expected if you are initializing TFBertModel from a PyTorch model trained on another task or with another architecture (e.g. initializing a TFBertForSequenceClassification model from a BertForPreTraining model).\n",
      "- This IS NOT expected if you are initializing TFBertModel from a PyTorch model that you expect to be exactly identical (e.g. initializing a TFBertForSequenceClassification model from a BertForSequenceClassification model).\n",
      "Some weights or buffers of the TF 2.0 model TFBertModel were not initialized from the PyTorch model and are newly initialized: ['bert.pooler.dense.weight', 'bert.pooler.dense.bias']\n",
      "You should probably TRAIN this model on a down-stream task to be able to use it for predictions and inference.\n"
     ]
    },
    {
     "name": "stdout",
     "output_type": "stream",
     "text": [
      "-----------------------------\n",
      "Finetuning bert model: drive/MyDrive/collab/research/bert_qa/../bert_scratch/bert_base_uncased_eng_wiki_mlm using laguage en\n",
      "Model: \"model_1\"\n",
      "__________________________________________________________________________________________________\n",
      " Layer (type)                   Output Shape         Param #     Connected to                     \n",
      "==================================================================================================\n",
      " input_4 (InputLayer)           [(None, 384)]        0           []                               \n",
      "                                                                                                  \n",
      " input_6 (InputLayer)           [(None, 384)]        0           []                               \n",
      "                                                                                                  \n",
      " input_5 (InputLayer)           [(None, 384)]        0           []                               \n",
      "                                                                                                  \n",
      " tf_bert_model_2 (TFBertModel)  TFBaseModelOutputWi  52779264    ['input_4[0][0]',                \n",
      "                                thPoolingAndCrossAt               'input_6[0][0]',                \n",
      "                                tentions(last_hidde               'input_5[0][0]']                \n",
      "                                n_state=(None, 384,                                               \n",
      "                                 768),                                                            \n",
      "                                 pooler_output=(Non                                               \n",
      "                                e, 768),                                                          \n",
      "                                 past_key_values=No                                               \n",
      "                                ne, hidden_states=N                                               \n",
      "                                one, attentions=Non                                               \n",
      "                                e, cross_attentions                                               \n",
      "                                =None)                                                            \n",
      "                                                                                                  \n",
      " start_logit (Dense)            (None, 384, 1)       768         ['tf_bert_model_2[0][0]']        \n",
      "                                                                                                  \n",
      " end_logit (Dense)              (None, 384, 1)       768         ['tf_bert_model_2[0][0]']        \n",
      "                                                                                                  \n",
      " flatten_2 (Flatten)            (None, 384)          0           ['start_logit[0][0]']            \n",
      "                                                                                                  \n",
      " flatten_3 (Flatten)            (None, 384)          0           ['end_logit[0][0]']              \n",
      "                                                                                                  \n",
      " activation_2 (Activation)      (None, 384)          0           ['flatten_2[0][0]']              \n",
      "                                                                                                  \n",
      " activation_3 (Activation)      (None, 384)          0           ['flatten_3[0][0]']              \n",
      "                                                                                                  \n",
      "==================================================================================================\n",
      "Total params: 52,780,800\n",
      "Trainable params: 52,780,800\n",
      "Non-trainable params: 0\n",
      "__________________________________________________________________________________________________\n"
     ]
    },
    {
     "name": "stderr",
     "output_type": "stream",
     "text": [
      "/usr/local/lib/python3.7/dist-packages/keras/optimizer_v2/adam.py:105: UserWarning: The `lr` argument is deprecated, use `learning_rate` instead.\n",
      "  super(Adam, self).__init__(name, **kwargs)\n"
     ]
    }
   ],
   "source": [
    "# CREATE MODEL\n",
    "use_tpu = True\n",
    "if use_tpu:\n",
    "    # Create distribution strategy\n",
    "    tpu = tf.distribute.cluster_resolver.TPUClusterResolver()\n",
    "    tf.config.experimental_connect_to_cluster(tpu)\n",
    "    tf.tpu.experimental.initialize_tpu_system(tpu)\n",
    "    strategy = tf.distribute.TPUStrategy(tpu)\n",
    "\n",
    "    # Create model\n",
    "    with strategy.scope():\n",
    "        model = create_model()\n",
    "else:\n",
    "    model = create_model()\n",
    "\n",
    "model.summary()"
   ]
  },
  {
   "cell_type": "markdown",
   "id": "RR2r9jN6jnm6",
   "metadata": {
    "id": "RR2r9jN6jnm6"
   },
   "source": [
    "### Vizualize"
   ]
  },
  {
   "cell_type": "code",
   "execution_count": 33,
   "id": "E7CHgwrokLHX",
   "metadata": {
    "colab": {
     "base_uri": "https://localhost:8080/",
     "height": 466
    },
    "id": "E7CHgwrokLHX",
    "outputId": "7c5ba5dc-5076-4632-df61-044a533472e7"
   },
   "outputs": [
    {
     "data": {
      "image/png": "[encoded data removed]",
      "text/plain": [
       "<IPython.core.display.Image object>"
      ]
     },
     "execution_count": 33,
     "metadata": {},
     "output_type": "execute_result"
    }
   ],
   "source": [
    "# VISUALIZE MODEL ARCHITECTURE\n",
    "tf.keras.utils.plot_model(\n",
    "    model, \n",
    ")"
   ]
  },
  {
   "cell_type": "markdown",
   "id": "SvPu1KQnjsIw",
   "metadata": {
    "id": "SvPu1KQnjsIw"
   },
   "source": [
    "## Evaluation Callback"
   ]
  },
  {
   "cell_type": "code",
   "execution_count": 34,
   "id": "9f396d3f",
   "metadata": {
    "id": "9f396d3f"
   },
   "outputs": [],
   "source": [
    "# EVALUATION CALLBACK\n",
    "class ExactMatch(keras.callbacks.Callback):\n",
    "    \"\"\"\n",
    "    Each `SquadExample` object contains the character level offsets for each token\n",
    "    in its input paragraph. We use them to get back the span of text corresponding\n",
    "    to the tokens between our predicted start and end tokens.\n",
    "    All the ground-truth answers are also present in each `SquadExample` object.\n",
    "    We calculate the percentage of data points where the span of text obtained\n",
    "    from model predictions matches one of the ground-truth answers.\n",
    "    \"\"\"\n",
    "\n",
    "    def __init__(self, x_eval, y_eval):\n",
    "        self.x_eval = x_eval\n",
    "        self.y_eval = y_eval\n",
    "        self.epoch_cnt = 1\n",
    "        self.batch_list = []\n",
    "        self.epoch_list = []\n",
    "        self.val_acc = []\n",
    "\n",
    "    def normalize_text(text):\n",
    "        text = text.lower()\n",
    "\n",
    "        # Remove punctuations\n",
    "        exclude = set(string.punctuation)\n",
    "        text = \"\".join(ch for ch in text if ch not in exclude)\n",
    "\n",
    "        # Remove articles\n",
    "        regex = re.compile(r\"\\b(a|an|the)\\b\", re.UNICODE)\n",
    "        text = re.sub(regex, \" \", text)\n",
    "\n",
    "        # Remove extra white space\n",
    "        text = \" \".join(text.split())\n",
    "        return text\n",
    "\n",
    "    def on_train_batch_end(self, batch, logs=None):\n",
    "        batch += 1\n",
    "        if (batch%BATCH_EVAL_MULTIPLE) == 0:\n",
    "            # the batch num is a multiple of config param\n",
    "            # print(batch, self.epoch_cnt)\n",
    "            pred_start, pred_end = self.model.predict(self.x_eval)\n",
    "            count = 0\n",
    "            eval_examples_no_skip = [_ for _ in eval_squad_examples if _.skip == False]\n",
    "            for idx, (start, end) in enumerate(zip(pred_start, pred_end)):\n",
    "                squad_eg = eval_examples_no_skip[idx]\n",
    "                offsets = squad_eg.context_token_to_char\n",
    "                start = np.argmax(start)\n",
    "                end = np.argmax(end)\n",
    "                if start >= len(offsets):\n",
    "                    continue\n",
    "                pred_char_start = offsets[start][0]\n",
    "                if end < len(offsets):\n",
    "                    pred_char_end = offsets[end][1]\n",
    "                    pred_ans = squad_eg.context[pred_char_start:pred_char_end]\n",
    "                else:\n",
    "                    pred_ans = squad_eg.context[pred_char_start:]\n",
    "\n",
    "                normalized_pred_ans = ExactMatch.normalize_text(pred_ans)\n",
    "                normalized_true_ans = [ExactMatch.normalize_text(_) for _ in squad_eg.all_answers]\n",
    "                if normalized_pred_ans in normalized_true_ans:\n",
    "                    count += 1\n",
    "            acc = count / len(self.y_eval[0])\n",
    "            self.val_acc.append(f'{acc:.2f}')\n",
    "            print(f\"\\nepoch={self.epoch_cnt}, batch={batch}, exact match score={acc:.2f}\")\n",
    "            self.batch_list.append(batch)\n",
    "            self.epoch_list.append(self.epoch_cnt)\n",
    "\n",
    "    def on_epoch_end(self, epoch, logs=None):\n",
    "        # pred_start, pred_end = self.model.predict(self.x_eval)\n",
    "        # count = 0\n",
    "        # eval_examples_no_skip = [_ for _ in eval_squad_examples if _.skip == False]\n",
    "        # for idx, (start, end) in enumerate(zip(pred_start, pred_end)):\n",
    "        #     squad_eg = eval_examples_no_skip[idx]\n",
    "        #     offsets = squad_eg.context_token_to_char\n",
    "        #     start = np.argmax(start)\n",
    "        #     end = np.argmax(end)\n",
    "        #     if start >= len(offsets):\n",
    "        #         continue\n",
    "        #     pred_char_start = offsets[start][0]\n",
    "        #     if end < len(offsets):\n",
    "        #         pred_char_end = offsets[end][1]\n",
    "        #         pred_ans = squad_eg.context[pred_char_start:pred_char_end]\n",
    "        #     else:\n",
    "        #         pred_ans = squad_eg.context[pred_char_start:]\n",
    "\n",
    "        #     normalized_pred_ans = ExactMatch.normalize_text(pred_ans)\n",
    "        #     normalized_true_ans = [ExactMatch.normalize_text(_) for _ in squad_eg.all_answers]\n",
    "        #     if normalized_pred_ans in normalized_true_ans:\n",
    "        #         count += 1\n",
    "        # acc = count / len(self.y_eval[0])\n",
    "        # self.val_acc.append(f'{acc:.2f}')\n",
    "        # print(f\"\\nepoch={epoch+1}, exact match score={acc:.2f}\")\n",
    "        self.epoch_cnt += 1"
   ]
  },
  {
   "cell_type": "markdown",
   "id": "6iaCrtNljuu7",
   "metadata": {
    "id": "6iaCrtNljuu7"
   },
   "source": [
    "## Train"
   ]
  },
  {
   "cell_type": "code",
   "execution_count": null,
   "id": "c946239d",
   "metadata": {
    "colab": {
     "base_uri": "https://localhost:8080/"
    },
    "id": "c946239d",
    "outputId": "eb362250-aced-4e57-fd02-79c5b706d0ad"
   },
   "outputs": [
    {
     "metadata": {
      "tags": null
     },
     "name": "stdout",
     "output_type": "stream",
     "text": [
      "Epoch 1/6\n"
     ]
    },
    {
     "metadata": {
      "tags": null
     },
     "name": "stderr",
     "output_type": "stream",
     "text": [
      "INFO:absl:TPU has inputs with dynamic shapes: [<tf.Tensor 'Const:0' shape=() dtype=int32>, <tf.Tensor 'cond/Identity:0' shape=(None, 384) dtype=int64>, <tf.Tensor 'cond/Identity_8:0' shape=(None, 384) dtype=int64>, <tf.Tensor 'cond/Identity_16:0' shape=(None, 384) dtype=int64>, <tf.Tensor 'cond/Identity_24:0' shape=(None,) dtype=int64>, <tf.Tensor 'cond/Identity_32:0' shape=(None,) dtype=int64>]\n"
     ]
    },
    {
     "metadata": {
      "tags": null
     },
     "name": "stdout",
     "output_type": "stream",
     "text": [
      "WARNING:tensorflow:Gradients do not exist for variables ['tf_bert_model_2/bert/pooler/dense/kernel:0', 'tf_bert_model_2/bert/pooler/dense/bias:0'] when minimizing the loss. If you're using `model.compile()`, did you forget to provide a `loss`argument?\n"
     ]
    },
    {
     "metadata": {
      "tags": null
     },
     "name": "stderr",
     "output_type": "stream",
     "text": [
      "WARNING:tensorflow:Gradients do not exist for variables ['tf_bert_model_2/bert/pooler/dense/kernel:0', 'tf_bert_model_2/bert/pooler/dense/bias:0'] when minimizing the loss. If you're using `model.compile()`, did you forget to provide a `loss`argument?\n",
      "INFO:absl:TPU has inputs with dynamic shapes: [<tf.Tensor 'Const:0' shape=() dtype=int32>, <tf.Tensor 'cond/Identity:0' shape=(None, 384) dtype=int64>, <tf.Tensor 'cond/Identity_8:0' shape=(None, 384) dtype=int64>, <tf.Tensor 'cond/Identity_16:0' shape=(None, 384) dtype=int64>, <tf.Tensor 'cond/Identity_24:0' shape=(None,) dtype=int64>, <tf.Tensor 'cond/Identity_32:0' shape=(None,) dtype=int64>]\n"
     ]
    },
    {
     "metadata": {
      "tags": null
     },
     "name": "stdout",
     "output_type": "stream",
     "text": [
      "WARNING:tensorflow:Gradients do not exist for variables ['tf_bert_model_2/bert/pooler/dense/kernel:0', 'tf_bert_model_2/bert/pooler/dense/bias:0'] when minimizing the loss. If you're using `model.compile()`, did you forget to provide a `loss`argument?\n"
     ]
    },
    {
     "metadata": {
      "tags": null
     },
     "name": "stderr",
     "output_type": "stream",
     "text": [
      "WARNING:tensorflow:Gradients do not exist for variables ['tf_bert_model_2/bert/pooler/dense/kernel:0', 'tf_bert_model_2/bert/pooler/dense/bias:0'] when minimizing the loss. If you're using `model.compile()`, did you forget to provide a `loss`argument?\n"
     ]
    },
    {
     "metadata": {
      "tags": null
     },
     "name": "stdout",
     "output_type": "stream",
     "text": [
      "   6/1002 [..............................] - ETA: 1:52 - loss: 10.3923 - activation_2_loss: 5.4480 - activation_3_loss: 4.9443WARNING:tensorflow:Callback method `on_train_batch_end` is slow compared to the batch time (batch time: 0.0029s vs `on_train_batch_end` time: 4.4729s). Check your callbacks.\n"
     ]
    },
    {
     "metadata": {
      "tags": null
     },
     "name": "stderr",
     "output_type": "stream",
     "text": [
      "WARNING:tensorflow:Callback method `on_train_batch_end` is slow compared to the batch time (batch time: 0.0029s vs `on_train_batch_end` time: 4.4729s). Check your callbacks.\n"
     ]
    },
    {
     "metadata": {
      "tags": null
     },
     "name": "stdout",
     "output_type": "stream",
     "text": [
      "   9/1002 [..............................] - ETA: 1:52 - loss: 9.7388 - activation_2_loss: 5.0745 - activation_3_loss: 4.6643"
     ]
    },
    {
     "metadata": {
      "tags": null
     },
     "name": "stderr",
     "output_type": "stream",
     "text": [
      "INFO:absl:TPU has inputs with dynamic shapes: [<tf.Tensor 'Const:0' shape=() dtype=int32>, <tf.Tensor 'cond/Identity:0' shape=(None, 384) dtype=int64>, <tf.Tensor 'cond/Identity_8:0' shape=(None, 384) dtype=int64>, <tf.Tensor 'cond/Identity_16:0' shape=(None, 384) dtype=int64>]\n"
     ]
    },
    {
     "name": "stdout",
     "output_type": "stream",
     "text": [
      "\n",
      "epoch=1, batch=10, exact match score=0.01\n",
      "  19/1002 [..............................] - ETA: 18:13 - loss: 8.9787 - activation_2_loss: 4.6695 - activation_3_loss: 4.3092\n",
      "epoch=1, batch=20, exact match score=0.01\n",
      "  29/1002 [..............................] - ETA: 17:25 - loss: 8.6242 - activation_2_loss: 4.4668 - activation_3_loss: 4.1574\n",
      "epoch=1, batch=30, exact match score=0.03\n",
      "  39/1002 [>.............................] - ETA: 16:59 - loss: 8.4100 - activation_2_loss: 4.3560 - activation_3_loss: 4.0541\n",
      "epoch=1, batch=40, exact match score=0.02\n",
      "  49/1002 [>.............................] - ETA: 16:37 - loss: 8.2779 - activation_2_loss: 4.2858 - activation_3_loss: 3.9921\n",
      "epoch=1, batch=50, exact match score=0.02\n",
      "  59/1002 [>.............................] - ETA: 16:20 - loss: 8.1606 - activation_2_loss: 4.2195 - activation_3_loss: 3.9411\n",
      "epoch=1, batch=60, exact match score=0.03\n",
      "  69/1002 [=>............................] - ETA: 16:05 - loss: 8.0872 - activation_2_loss: 4.1758 - activation_3_loss: 3.9114\n",
      "epoch=1, batch=70, exact match score=0.03\n",
      "  79/1002 [=>............................] - ETA: 15:52 - loss: 8.0106 - activation_2_loss: 4.1366 - activation_3_loss: 3.8740\n",
      "epoch=1, batch=80, exact match score=0.03\n",
      "  89/1002 [=>............................] - ETA: 15:39 - loss: 7.9591 - activation_2_loss: 4.1112 - activation_3_loss: 3.8479\n",
      "epoch=1, batch=90, exact match score=0.03\n",
      "  99/1002 [=>............................] - ETA: 15:29 - loss: 7.9205 - activation_2_loss: 4.0929 - activation_3_loss: 3.8276\n",
      "epoch=1, batch=100, exact match score=0.03\n",
      " 109/1002 [==>...........................] - ETA: 15:18 - loss: 7.8876 - activation_2_loss: 4.0763 - activation_3_loss: 3.8113\n",
      "epoch=1, batch=110, exact match score=0.04\n",
      " 119/1002 [==>...........................] - ETA: 15:06 - loss: 7.8552 - activation_2_loss: 4.0600 - activation_3_loss: 3.7952\n",
      "epoch=1, batch=120, exact match score=0.04\n",
      " 129/1002 [==>...........................] - ETA: 14:55 - loss: 7.8284 - activation_2_loss: 4.0475 - activation_3_loss: 3.7809\n",
      "epoch=1, batch=130, exact match score=0.05\n",
      " 139/1002 [===>..........................] - ETA: 14:45 - loss: 7.7971 - activation_2_loss: 4.0333 - activation_3_loss: 3.7638\n",
      "epoch=1, batch=140, exact match score=0.05\n",
      " 149/1002 [===>..........................] - ETA: 14:33 - loss: 7.7568 - activation_2_loss: 4.0150 - activation_3_loss: 3.7419\n",
      "epoch=1, batch=150, exact match score=0.07\n",
      " 159/1002 [===>..........................] - ETA: 14:23 - loss: 7.7160 - activation_2_loss: 3.9942 - activation_3_loss: 3.7219\n",
      "epoch=1, batch=160, exact match score=0.07\n",
      " 169/1002 [====>.........................] - ETA: 14:12 - loss: 7.6692 - activation_2_loss: 3.9717 - activation_3_loss: 3.6975\n",
      "epoch=1, batch=170, exact match score=0.08\n",
      " 179/1002 [====>.........................] - ETA: 14:01 - loss: 7.6051 - activation_2_loss: 3.9389 - activation_3_loss: 3.6662\n",
      "epoch=1, batch=180, exact match score=0.10\n",
      " 189/1002 [====>.........................] - ETA: 13:49 - loss: 7.5535 - activation_2_loss: 3.9140 - activation_3_loss: 3.6395\n",
      "epoch=1, batch=190, exact match score=0.10\n",
      " 199/1002 [====>.........................] - ETA: 13:38 - loss: 7.4999 - activation_2_loss: 3.8855 - activation_3_loss: 3.6144\n",
      "epoch=1, batch=200, exact match score=0.10\n",
      " 209/1002 [=====>........................] - ETA: 13:27 - loss: 7.4478 - activation_2_loss: 3.8571 - activation_3_loss: 3.5907\n",
      "epoch=1, batch=210, exact match score=0.11\n",
      " 219/1002 [=====>........................] - ETA: 13:17 - loss: 7.3956 - activation_2_loss: 3.8318 - activation_3_loss: 3.5638\n",
      "epoch=1, batch=220, exact match score=0.11\n",
      " 229/1002 [=====>........................] - ETA: 13:07 - loss: 7.3526 - activation_2_loss: 3.8076 - activation_3_loss: 3.5449\n",
      "epoch=1, batch=230, exact match score=0.12\n",
      " 239/1002 [======>.......................] - ETA: 12:56 - loss: 7.3072 - activation_2_loss: 3.7827 - activation_3_loss: 3.5245\n",
      "epoch=1, batch=240, exact match score=0.13\n",
      " 249/1002 [======>.......................] - ETA: 12:46 - loss: 7.2623 - activation_2_loss: 3.7573 - activation_3_loss: 3.5049\n",
      "epoch=1, batch=250, exact match score=0.13\n",
      " 259/1002 [======>.......................] - ETA: 12:36 - loss: 7.2184 - activation_2_loss: 3.7337 - activation_3_loss: 3.4847\n",
      "epoch=1, batch=260, exact match score=0.15\n",
      " 269/1002 [=======>......................] - ETA: 12:26 - loss: 7.1736 - activation_2_loss: 3.7103 - activation_3_loss: 3.4633\n",
      "epoch=1, batch=270, exact match score=0.16\n",
      " 279/1002 [=======>......................] - ETA: 12:15 - loss: 7.1309 - activation_2_loss: 3.6883 - activation_3_loss: 3.4426\n",
      "epoch=1, batch=280, exact match score=0.18\n",
      " 289/1002 [=======>......................] - ETA: 12:05 - loss: 7.0840 - activation_2_loss: 3.6625 - activation_3_loss: 3.4215\n",
      "epoch=1, batch=290, exact match score=0.19\n",
      " 299/1002 [=======>......................] - ETA: 11:54 - loss: 7.0396 - activation_2_loss: 3.6395 - activation_3_loss: 3.4001\n",
      "epoch=1, batch=300, exact match score=0.20\n",
      " 309/1002 [========>.....................] - ETA: 11:44 - loss: 7.0017 - activation_2_loss: 3.6206 - activation_3_loss: 3.3811\n",
      "epoch=1, batch=310, exact match score=0.20\n",
      " 319/1002 [========>.....................] - ETA: 11:34 - loss: 6.9598 - activation_2_loss: 3.5979 - activation_3_loss: 3.3619\n",
      "epoch=1, batch=320, exact match score=0.21\n",
      " 329/1002 [========>.....................] - ETA: 11:24 - loss: 6.9210 - activation_2_loss: 3.5771 - activation_3_loss: 3.3439\n",
      "epoch=1, batch=330, exact match score=0.22\n",
      " 339/1002 [=========>....................] - ETA: 11:14 - loss: 6.8794 - activation_2_loss: 3.5556 - activation_3_loss: 3.3238\n",
      "epoch=1, batch=340, exact match score=0.22\n",
      " 349/1002 [=========>....................] - ETA: 11:04 - loss: 6.8398 - activation_2_loss: 3.5342 - activation_3_loss: 3.3056\n",
      "epoch=1, batch=350, exact match score=0.23\n",
      " 359/1002 [=========>....................] - ETA: 10:54 - loss: 6.8001 - activation_2_loss: 3.5127 - activation_3_loss: 3.2874\n",
      "epoch=1, batch=360, exact match score=0.23\n",
      " 369/1002 [==========>...................] - ETA: 10:44 - loss: 6.7659 - activation_2_loss: 3.4941 - activation_3_loss: 3.2717\n",
      "epoch=1, batch=370, exact match score=0.23\n",
      " 379/1002 [==========>...................] - ETA: 10:34 - loss: 6.7302 - activation_2_loss: 3.4757 - activation_3_loss: 3.2545\n",
      "epoch=1, batch=380, exact match score=0.24\n",
      " 389/1002 [==========>...................] - ETA: 10:23 - loss: 6.6902 - activation_2_loss: 3.4544 - activation_3_loss: 3.2358\n",
      "epoch=1, batch=390, exact match score=0.24\n",
      " 399/1002 [==========>...................] - ETA: 10:13 - loss: 6.6565 - activation_2_loss: 3.4367 - activation_3_loss: 3.2199\n",
      "epoch=1, batch=400, exact match score=0.25\n",
      " 409/1002 [===========>..................] - ETA: 10:03 - loss: 6.6215 - activation_2_loss: 3.4180 - activation_3_loss: 3.2036\n",
      "epoch=1, batch=410, exact match score=0.25\n",
      " 419/1002 [===========>..................] - ETA: 9:52 - loss: 6.5888 - activation_2_loss: 3.4001 - activation_3_loss: 3.1887\n",
      "epoch=1, batch=420, exact match score=0.26\n",
      " 429/1002 [===========>..................] - ETA: 9:42 - loss: 6.5564 - activation_2_loss: 3.3832 - activation_3_loss: 3.1733\n",
      "epoch=1, batch=430, exact match score=0.26\n",
      " 439/1002 [============>.................] - ETA: 9:32 - loss: 6.5248 - activation_2_loss: 3.3673 - activation_3_loss: 3.1574\n",
      "epoch=1, batch=440, exact match score=0.26\n",
      " 449/1002 [============>.................] - ETA: 9:22 - loss: 6.4955 - activation_2_loss: 3.3521 - activation_3_loss: 3.1435\n",
      "epoch=1, batch=450, exact match score=0.26\n",
      " 459/1002 [============>.................] - ETA: 9:11 - loss: 6.4671 - activation_2_loss: 3.3362 - activation_3_loss: 3.1309\n",
      "epoch=1, batch=460, exact match score=0.27\n",
      " 469/1002 [=============>................] - ETA: 9:01 - loss: 6.4398 - activation_2_loss: 3.3214 - activation_3_loss: 3.1184\n",
      "epoch=1, batch=470, exact match score=0.26\n",
      " 479/1002 [=============>................] - ETA: 8:51 - loss: 6.4111 - activation_2_loss: 3.3065 - activation_3_loss: 3.1047\n",
      "epoch=1, batch=480, exact match score=0.27\n",
      " 489/1002 [=============>................] - ETA: 8:41 - loss: 6.3851 - activation_2_loss: 3.2934 - activation_3_loss: 3.0917\n",
      "epoch=1, batch=490, exact match score=0.28\n",
      " 499/1002 [=============>................] - ETA: 8:31 - loss: 6.3596 - activation_2_loss: 3.2802 - activation_3_loss: 3.0794\n",
      "epoch=1, batch=500, exact match score=0.28\n",
      " 509/1002 [==============>...............] - ETA: 8:20 - loss: 6.3362 - activation_2_loss: 3.2685 - activation_3_loss: 3.0678\n",
      "epoch=1, batch=510, exact match score=0.28\n",
      " 519/1002 [==============>...............] - ETA: 8:10 - loss: 6.3118 - activation_2_loss: 3.2564 - activation_3_loss: 3.0555\n",
      "epoch=1, batch=520, exact match score=0.29\n",
      " 529/1002 [==============>...............] - ETA: 8:00 - loss: 6.2872 - activation_2_loss: 3.2427 - activation_3_loss: 3.0446\n",
      "epoch=1, batch=530, exact match score=0.29\n",
      " 539/1002 [===============>..............] - ETA: 7:49 - loss: 6.2656 - activation_2_loss: 3.2308 - activation_3_loss: 3.0348\n",
      "epoch=1, batch=540, exact match score=0.29\n",
      " 549/1002 [===============>..............] - ETA: 7:42 - loss: 6.2441 - activation_2_loss: 3.2191 - activation_3_loss: 3.0250\n",
      "epoch=1, batch=550, exact match score=0.29\n",
      " 559/1002 [===============>..............] - ETA: 7:32 - loss: 6.2188 - activation_2_loss: 3.2053 - activation_3_loss: 3.0135\n",
      "epoch=1, batch=560, exact match score=0.29\n",
      " 569/1002 [================>.............] - ETA: 7:22 - loss: 6.1967 - activation_2_loss: 3.1938 - activation_3_loss: 3.0029\n",
      "epoch=1, batch=570, exact match score=0.29\n",
      " 579/1002 [================>.............] - ETA: 7:12 - loss: 6.1748 - activation_2_loss: 3.1819 - activation_3_loss: 2.9930\n",
      "epoch=1, batch=580, exact match score=0.30\n",
      " 589/1002 [================>.............] - ETA: 7:01 - loss: 6.1536 - activation_2_loss: 3.1708 - activation_3_loss: 2.9827\n",
      "epoch=1, batch=590, exact match score=0.29\n",
      " 599/1002 [================>.............] - ETA: 6:51 - loss: 6.1347 - activation_2_loss: 3.1610 - activation_3_loss: 2.9737\n",
      "epoch=1, batch=600, exact match score=0.29\n",
      " 609/1002 [=================>............] - ETA: 6:41 - loss: 6.1124 - activation_2_loss: 3.1492 - activation_3_loss: 2.9632\n",
      "epoch=1, batch=610, exact match score=0.31\n",
      " 619/1002 [=================>............] - ETA: 6:31 - loss: 6.0924 - activation_2_loss: 3.1386 - activation_3_loss: 2.9539\n",
      "epoch=1, batch=620, exact match score=0.30\n",
      " 629/1002 [=================>............] - ETA: 6:20 - loss: 6.0722 - activation_2_loss: 3.1281 - activation_3_loss: 2.9441\n",
      "epoch=1, batch=630, exact match score=0.31\n",
      " 639/1002 [==================>...........] - ETA: 6:10 - loss: 6.0504 - activation_2_loss: 3.1173 - activation_3_loss: 2.9332\n",
      "epoch=1, batch=640, exact match score=0.30\n",
      " 649/1002 [==================>...........] - ETA: 6:00 - loss: 6.0314 - activation_2_loss: 3.1067 - activation_3_loss: 2.9246\n",
      "epoch=1, batch=650, exact match score=0.31\n",
      " 659/1002 [==================>...........] - ETA: 5:49 - loss: 6.0167 - activation_2_loss: 3.0993 - activation_3_loss: 2.9174\n",
      "epoch=1, batch=660, exact match score=0.31\n",
      " 669/1002 [===================>..........] - ETA: 5:39 - loss: 5.9976 - activation_2_loss: 3.0897 - activation_3_loss: 2.9079\n",
      "epoch=1, batch=670, exact match score=0.31\n",
      " 679/1002 [===================>..........] - ETA: 5:29 - loss: 5.9816 - activation_2_loss: 3.0816 - activation_3_loss: 2.8999\n",
      "epoch=1, batch=680, exact match score=0.32\n",
      " 689/1002 [===================>..........] - ETA: 5:19 - loss: 5.9632 - activation_2_loss: 3.0715 - activation_3_loss: 2.8917\n",
      "epoch=1, batch=690, exact match score=0.31\n",
      " 699/1002 [===================>..........] - ETA: 5:08 - loss: 5.9464 - activation_2_loss: 3.0625 - activation_3_loss: 2.8840\n",
      "epoch=1, batch=700, exact match score=0.31\n",
      " 709/1002 [====================>.........] - ETA: 4:58 - loss: 5.9282 - activation_2_loss: 3.0526 - activation_3_loss: 2.8755\n",
      "epoch=1, batch=710, exact match score=0.32\n",
      " 719/1002 [====================>.........] - ETA: 4:48 - loss: 5.9122 - activation_2_loss: 3.0445 - activation_3_loss: 2.8677\n",
      "epoch=1, batch=720, exact match score=0.32\n",
      " 729/1002 [====================>.........] - ETA: 4:38 - loss: 5.8938 - activation_2_loss: 3.0349 - activation_3_loss: 2.8589\n",
      "epoch=1, batch=730, exact match score=0.32\n",
      " 739/1002 [=====================>........] - ETA: 4:27 - loss: 5.8797 - activation_2_loss: 3.0280 - activation_3_loss: 2.8517\n",
      "epoch=1, batch=740, exact match score=0.32\n",
      " 749/1002 [=====================>........] - ETA: 4:17 - loss: 5.8631 - activation_2_loss: 3.0193 - activation_3_loss: 2.8438\n",
      "epoch=1, batch=750, exact match score=0.33\n",
      " 759/1002 [=====================>........] - ETA: 4:07 - loss: 5.8480 - activation_2_loss: 3.0116 - activation_3_loss: 2.8364\n",
      "epoch=1, batch=760, exact match score=0.32\n",
      " 769/1002 [======================>.......] - ETA: 3:57 - loss: 5.8334 - activation_2_loss: 3.0041 - activation_3_loss: 2.8293\n",
      "epoch=1, batch=770, exact match score=0.33\n",
      " 779/1002 [======================>.......] - ETA: 3:46 - loss: 5.8198 - activation_2_loss: 2.9974 - activation_3_loss: 2.8224\n",
      "epoch=1, batch=780, exact match score=0.33\n",
      " 789/1002 [======================>.......] - ETA: 3:36 - loss: 5.8032 - activation_2_loss: 2.9885 - activation_3_loss: 2.8147\n",
      "epoch=1, batch=790, exact match score=0.33\n",
      " 799/1002 [======================>.......] - ETA: 3:26 - loss: 5.7881 - activation_2_loss: 2.9806 - activation_3_loss: 2.8076\n",
      "epoch=1, batch=800, exact match score=0.33\n",
      " 809/1002 [=======================>......] - ETA: 3:16 - loss: 5.7709 - activation_2_loss: 2.9717 - activation_3_loss: 2.7993\n",
      "epoch=1, batch=810, exact match score=0.32\n",
      " 819/1002 [=======================>......] - ETA: 3:06 - loss: 5.7557 - activation_2_loss: 2.9635 - activation_3_loss: 2.7922\n",
      "epoch=1, batch=820, exact match score=0.33\n",
      " 829/1002 [=======================>......] - ETA: 2:55 - loss: 5.7425 - activation_2_loss: 2.9566 - activation_3_loss: 2.7860\n",
      "epoch=1, batch=830, exact match score=0.32\n",
      " 839/1002 [========================>.....] - ETA: 2:45 - loss: 5.7298 - activation_2_loss: 2.9503 - activation_3_loss: 2.7796\n",
      "epoch=1, batch=840, exact match score=0.33\n",
      " 849/1002 [========================>.....] - ETA: 2:35 - loss: 5.7175 - activation_2_loss: 2.9437 - activation_3_loss: 2.7738\n",
      "epoch=1, batch=850, exact match score=0.33\n",
      " 859/1002 [========================>.....] - ETA: 2:25 - loss: 5.7039 - activation_2_loss: 2.9367 - activation_3_loss: 2.7672\n",
      "epoch=1, batch=860, exact match score=0.34\n",
      " 869/1002 [=========================>....] - ETA: 2:15 - loss: 5.6902 - activation_2_loss: 2.9298 - activation_3_loss: 2.7604\n",
      "epoch=1, batch=870, exact match score=0.33\n",
      " 879/1002 [=========================>....] - ETA: 2:05 - loss: 5.6772 - activation_2_loss: 2.9230 - activation_3_loss: 2.7542\n",
      "epoch=1, batch=880, exact match score=0.34\n",
      " 889/1002 [=========================>....] - ETA: 1:54 - loss: 5.6650 - activation_2_loss: 2.9166 - activation_3_loss: 2.7485\n",
      "epoch=1, batch=890, exact match score=0.33\n",
      " 899/1002 [=========================>....] - ETA: 1:44 - loss: 5.6530 - activation_2_loss: 2.9108 - activation_3_loss: 2.7422\n",
      "epoch=1, batch=900, exact match score=0.33\n",
      " 909/1002 [==========================>...] - ETA: 1:34 - loss: 5.6415 - activation_2_loss: 2.9048 - activation_3_loss: 2.7367\n",
      "epoch=1, batch=910, exact match score=0.33\n",
      " 919/1002 [==========================>...] - ETA: 1:24 - loss: 5.6315 - activation_2_loss: 2.8996 - activation_3_loss: 2.7319\n",
      "epoch=1, batch=920, exact match score=0.34\n",
      " 929/1002 [==========================>...] - ETA: 1:14 - loss: 5.6197 - activation_2_loss: 2.8934 - activation_3_loss: 2.7263\n",
      "epoch=1, batch=930, exact match score=0.33\n",
      " 939/1002 [===========================>..] - ETA: 1:04 - loss: 5.6098 - activation_2_loss: 2.8884 - activation_3_loss: 2.7214\n",
      "epoch=1, batch=940, exact match score=0.34\n",
      " 949/1002 [===========================>..] - ETA: 53s - loss: 5.5988 - activation_2_loss: 2.8825 - activation_3_loss: 2.7163\n",
      "epoch=1, batch=950, exact match score=0.34\n",
      " 959/1002 [===========================>..] - ETA: 43s - loss: 5.5881 - activation_2_loss: 2.8769 - activation_3_loss: 2.7112\n",
      "epoch=1, batch=960, exact match score=0.34\n",
      " 969/1002 [============================>.] - ETA: 33s - loss: 5.5751 - activation_2_loss: 2.8703 - activation_3_loss: 2.7048\n",
      "epoch=1, batch=970, exact match score=0.35\n",
      " 979/1002 [============================>.] - ETA: 23s - loss: 5.5631 - activation_2_loss: 2.8638 - activation_3_loss: 2.6993\n",
      "epoch=1, batch=980, exact match score=0.34\n",
      " 989/1002 [============================>.] - ETA: 13s - loss: 5.5520 - activation_2_loss: 2.8584 - activation_3_loss: 2.6935\n",
      "epoch=1, batch=990, exact match score=0.35\n",
      " 999/1002 [============================>.] - ETA: 3s - loss: 5.5430 - activation_2_loss: 2.8540 - activation_3_loss: 2.6890\n",
      "epoch=1, batch=1000, exact match score=0.34\n",
      "1002/1002 [==============================] - 1083s 1s/step - loss: 5.5400 - activation_2_loss: 2.8524 - activation_3_loss: 2.6876\n",
      "Epoch 2/6\n",
      "   9/1002 [..............................] - ETA: 1:52 - loss: 4.0780 - activation_2_loss: 2.1023 - activation_3_loss: 1.9758\n",
      "epoch=2, batch=10, exact match score=0.34\n",
      "  19/1002 [..............................] - ETA: 9:59 - loss: 4.0525 - activation_2_loss: 2.0995 - activation_3_loss: 1.9530 \n",
      "epoch=2, batch=20, exact match score=0.34\n",
      "  29/1002 [..............................] - ETA: 12:08 - loss: 4.0431 - activation_2_loss: 2.0775 - activation_3_loss: 1.9656\n",
      "epoch=2, batch=30, exact match score=0.35\n",
      "  39/1002 [>.............................] - ETA: 13:04 - loss: 4.0155 - activation_2_loss: 2.0666 - activation_3_loss: 1.9488\n",
      "epoch=2, batch=40, exact match score=0.35\n",
      "  49/1002 [>.............................] - ETA: 13:33 - loss: 4.0019 - activation_2_loss: 2.0496 - activation_3_loss: 1.9524\n",
      "epoch=2, batch=50, exact match score=0.35\n",
      "  59/1002 [>.............................] - ETA: 13:47 - loss: 4.0076 - activation_2_loss: 2.0464 - activation_3_loss: 1.9612\n",
      "epoch=2, batch=60, exact match score=0.35\n",
      "  69/1002 [=>............................] - ETA: 13:54 - loss: 4.0149 - activation_2_loss: 2.0494 - activation_3_loss: 1.9655\n",
      "epoch=2, batch=70, exact match score=0.34\n",
      "  79/1002 [=>............................] - ETA: 13:57 - loss: 4.0042 - activation_2_loss: 2.0464 - activation_3_loss: 1.9578\n",
      "epoch=2, batch=80, exact match score=0.35\n",
      "  89/1002 [=>............................] - ETA: 13:57 - loss: 4.0020 - activation_2_loss: 2.0495 - activation_3_loss: 1.9526"
     ]
    }
   ],
   "source": [
    "# TRAIN MODEL AND EVALUATE\n",
    "exact_match_callback = ExactMatch(x_eval, y_eval)\n",
    "hist = model.fit(\n",
    "    x_train,\n",
    "    y_train,\n",
    "    epochs=EPOCHS,  # For demonstration, 3 epochs are recommended\n",
    "    verbose=1,\n",
    "    batch_size=BATCH_SIZE,\n",
    "    callbacks=[exact_match_callback],\n",
    ")"
   ]
  },
  {
   "cell_type": "code",
   "execution_count": null,
   "id": "yhfKWRjdyUn4",
   "metadata": {
    "id": "yhfKWRjdyUn4"
   },
   "outputs": [],
   "source": [
    "# if TRAINING_TYPE == 1:\n",
    "#   # SAVE FINE TUNED BERT MODEL\n",
    "#   model.save_weights(BERT_FINETUNED_SAVE_PATH)\n",
    "#   # https://github.com/tensorflow/tensorflow/issues/22837"
   ]
  },
  {
   "cell_type": "markdown",
   "id": "2bUyZ3ttjyYq",
   "metadata": {
    "id": "2bUyZ3ttjyYq"
   },
   "source": [
    "## Save Evaluation Result "
   ]
  },
  {
   "cell_type": "code",
   "execution_count": null,
   "id": "gUME4G20GAXQ",
   "metadata": {
    "id": "gUME4G20GAXQ"
   },
   "outputs": [],
   "source": [
    "# MODEL EVALUATION RESULT\n",
    "\n",
    "# eval_df = pd.DataFrame(data={'epochs':range(1,len(exact_match_callback.val_acc)+1), 'train_loss': hist.history['loss'], 'eval_acc':exact_match_callback.val_acc})\n",
    "eval_df = pd.DataFrame(data={'epochs':exact_match_callback.epoch_list, 'batch':exact_match_callback.batch_list, 'eval_acc':exact_match_callback.val_acc})\n",
    "eval_df.to_csv(MODEL_EVAL_SAVE_FORMAT, sep='\\t', index=False)"
   ]
  },
  {
   "cell_type": "code",
   "execution_count": null,
   "id": "g0nWdm4PHbG4",
   "metadata": {
    "id": "g0nWdm4PHbG4"
   },
   "outputs": [],
   "source": []
  },
  {
   "cell_type": "code",
   "execution_count": null,
   "id": "B-LuvtB8HbM0",
   "metadata": {
    "id": "B-LuvtB8HbM0"
   },
   "outputs": [],
   "source": []
  }
 ],
 "metadata": {
  "accelerator": "TPU",
  "colab": {
   "collapsed_sections": [],
   "machine_shape": "hm",
   "name": "train_bert_qa.ipynb",
   "provenance": []
  },
  "kernelspec": {
   "display_name": "Python 3 (ipykernel)",
   "language": "python",
   "name": "python3"
  },
  "language_info": {
   "codemirror_mode": {
    "name": "ipython",
    "version": 3
   },
   "file_extension": ".py",
   "mimetype": "text/x-python",
   "name": "python",
   "nbconvert_exporter": "python",
   "pygments_lexer": "ipython3",
   "version": "3.8.10"
  },
  "widgets": {
   "application/vnd.jupyter.widget-state+json": {
    "081fe39dcbcd459b8e7a8f0f151c22e1": {
     "model_module": "@jupyter-widgets/controls",
     "model_module_version": "1.5.0",
     "model_name": "DescriptionStyleModel",
     "state": {
      "_model_module": "@jupyter-widgets/controls",
      "_model_module_version": "1.5.0",
      "_model_name": "DescriptionStyleModel",
      "_view_count": null,
      "_view_module": "@jupyter-widgets/base",
      "_view_module_version": "1.2.0",
      "_view_name": "StyleView",
      "description_width": ""
     }
    },
    "0ee53e6e0b7a4a018c7aa3463d4a50bf": {
     "model_module": "@jupyter-widgets/base",
     "model_module_version": "1.2.0",
     "model_name": "LayoutModel",
     "state": {
      "_model_module": "@jupyter-widgets/base",
      "_model_module_version": "1.2.0",
      "_model_name": "LayoutModel",
      "_view_count": null,
      "_view_module": "@jupyter-widgets/base",
      "_view_module_version": "1.2.0",
      "_view_name": "LayoutView",
      "align_content": null,
      "align_items": null,
      "align_self": null,
      "border": null,
      "bottom": null,
      "display": null,
      "flex": null,
      "flex_flow": null,
      "grid_area": null,
      "grid_auto_columns": null,
      "grid_auto_flow": null,
      "grid_auto_rows": null,
      "grid_column": null,
      "grid_gap": null,
      "grid_row": null,
      "grid_template_areas": null,
      "grid_template_columns": null,
      "grid_template_rows": null,
      "height": null,
      "justify_content": null,
      "justify_items": null,
      "left": null,
      "margin": null,
      "max_height": null,
      "max_width": null,
      "min_height": null,
      "min_width": null,
      "object_fit": null,
      "object_position": null,
      "order": null,
      "overflow": null,
      "overflow_x": null,
      "overflow_y": null,
      "padding": null,
      "right": null,
      "top": null,
      "visibility": null,
      "width": null
     }
    },
    "12cf826033bb48b2987c04aecfc12fb0": {
     "model_module": "@jupyter-widgets/controls",
     "model_module_version": "1.5.0",
     "model_name": "ProgressStyleModel",
     "state": {
      "_model_module": "@jupyter-widgets/controls",
      "_model_module_version": "1.5.0",
      "_model_name": "ProgressStyleModel",
      "_view_count": null,
      "_view_module": "@jupyter-widgets/base",
      "_view_module_version": "1.2.0",
      "_view_name": "StyleView",
      "bar_color": null,
      "description_width": ""
     }
    },
    "171b83c9c5ea4d39bf36f194682765b7": {
     "model_module": "@jupyter-widgets/controls",
     "model_module_version": "1.5.0",
     "model_name": "HBoxModel",
     "state": {
      "_dom_classes": [],
      "_model_module": "@jupyter-widgets/controls",
      "_model_module_version": "1.5.0",
      "_model_name": "HBoxModel",
      "_view_count": null,
      "_view_module": "@jupyter-widgets/controls",
      "_view_module_version": "1.5.0",
      "_view_name": "HBoxView",
      "box_style": "",
      "children": [
       "IPY_MODEL_71a5de74963c4236826e62443feb567a",
       "IPY_MODEL_4b5f193d3ea64ab1bf8507e3ccfadb19",
       "IPY_MODEL_c7abdd57aae448659635420f902db5fb"
      ],
      "layout": "IPY_MODEL_0ee53e6e0b7a4a018c7aa3463d4a50bf"
     }
    },
    "1e1131adf2da4aaab83fd546686839af": {
     "model_module": "@jupyter-widgets/controls",
     "model_module_version": "1.5.0",
     "model_name": "DescriptionStyleModel",
     "state": {
      "_model_module": "@jupyter-widgets/controls",
      "_model_module_version": "1.5.0",
      "_model_name": "DescriptionStyleModel",
      "_view_count": null,
      "_view_module": "@jupyter-widgets/base",
      "_view_module_version": "1.2.0",
      "_view_name": "StyleView",
      "description_width": ""
     }
    },
    "2c5b4f47df1b4d0c97383de2676a0c91": {
     "model_module": "@jupyter-widgets/controls",
     "model_module_version": "1.5.0",
     "model_name": "ProgressStyleModel",
     "state": {
      "_model_module": "@jupyter-widgets/controls",
      "_model_module_version": "1.5.0",
      "_model_name": "ProgressStyleModel",
      "_view_count": null,
      "_view_module": "@jupyter-widgets/base",
      "_view_module_version": "1.2.0",
      "_view_name": "StyleView",
      "bar_color": null,
      "description_width": ""
     }
    },
    "3392d659056b4c379dc204a4e516eee9": {
     "model_module": "@jupyter-widgets/base",
     "model_module_version": "1.2.0",
     "model_name": "LayoutModel",
     "state": {
      "_model_module": "@jupyter-widgets/base",
      "_model_module_version": "1.2.0",
      "_model_name": "LayoutModel",
      "_view_count": null,
      "_view_module": "@jupyter-widgets/base",
      "_view_module_version": "1.2.0",
      "_view_name": "LayoutView",
      "align_content": null,
      "align_items": null,
      "align_self": null,
      "border": null,
      "bottom": null,
      "display": null,
      "flex": null,
      "flex_flow": null,
      "grid_area": null,
      "grid_auto_columns": null,
      "grid_auto_flow": null,
      "grid_auto_rows": null,
      "grid_column": null,
      "grid_gap": null,
      "grid_row": null,
      "grid_template_areas": null,
      "grid_template_columns": null,
      "grid_template_rows": null,
      "height": null,
      "justify_content": null,
      "justify_items": null,
      "left": null,
      "margin": null,
      "max_height": null,
      "max_width": null,
      "min_height": null,
      "min_width": null,
      "object_fit": null,
      "object_position": null,
      "order": null,
      "overflow": null,
      "overflow_x": null,
      "overflow_y": null,
      "padding": null,
      "right": null,
      "top": null,
      "visibility": null,
      "width": null
     }
    },
    "346d86da1e314ec4a39d1c027c084306": {
     "model_module": "@jupyter-widgets/base",
     "model_module_version": "1.2.0",
     "model_name": "LayoutModel",
     "state": {
      "_model_module": "@jupyter-widgets/base",
      "_model_module_version": "1.2.0",
      "_model_name": "LayoutModel",
      "_view_count": null,
      "_view_module": "@jupyter-widgets/base",
      "_view_module_version": "1.2.0",
      "_view_name": "LayoutView",
      "align_content": null,
      "align_items": null,
      "align_self": null,
      "border": null,
      "bottom": null,
      "display": null,
      "flex": null,
      "flex_flow": null,
      "grid_area": null,
      "grid_auto_columns": null,
      "grid_auto_flow": null,
      "grid_auto_rows": null,
      "grid_column": null,
      "grid_gap": null,
      "grid_row": null,
      "grid_template_areas": null,
      "grid_template_columns": null,
      "grid_template_rows": null,
      "height": null,
      "justify_content": null,
      "justify_items": null,
      "left": null,
      "margin": null,
      "max_height": null,
      "max_width": null,
      "min_height": null,
      "min_width": null,
      "object_fit": null,
      "object_position": null,
      "order": null,
      "overflow": null,
      "overflow_x": null,
      "overflow_y": null,
      "padding": null,
      "right": null,
      "top": null,
      "visibility": null,
      "width": null
     }
    },
    "36a6536ac57e484f9686251e168806bd": {
     "model_module": "@jupyter-widgets/controls",
     "model_module_version": "1.5.0",
     "model_name": "DescriptionStyleModel",
     "state": {
      "_model_module": "@jupyter-widgets/controls",
      "_model_module_version": "1.5.0",
      "_model_name": "DescriptionStyleModel",
      "_view_count": null,
      "_view_module": "@jupyter-widgets/base",
      "_view_module_version": "1.2.0",
      "_view_name": "StyleView",
      "description_width": ""
     }
    },
    "3a0de9bd2c5a4da4bb07f80d389b1b1e": {
     "model_module": "@jupyter-widgets/controls",
     "model_module_version": "1.5.0",
     "model_name": "DescriptionStyleModel",
     "state": {
      "_model_module": "@jupyter-widgets/controls",
      "_model_module_version": "1.5.0",
      "_model_name": "DescriptionStyleModel",
      "_view_count": null,
      "_view_module": "@jupyter-widgets/base",
      "_view_module_version": "1.2.0",
      "_view_name": "StyleView",
      "description_width": ""
     }
    },
    "41152c4a83c04599a936df1704285486": {
     "model_module": "@jupyter-widgets/base",
     "model_module_version": "1.2.0",
     "model_name": "LayoutModel",
     "state": {
      "_model_module": "@jupyter-widgets/base",
      "_model_module_version": "1.2.0",
      "_model_name": "LayoutModel",
      "_view_count": null,
      "_view_module": "@jupyter-widgets/base",
      "_view_module_version": "1.2.0",
      "_view_name": "LayoutView",
      "align_content": null,
      "align_items": null,
      "align_self": null,
      "border": null,
      "bottom": null,
      "display": null,
      "flex": null,
      "flex_flow": null,
      "grid_area": null,
      "grid_auto_columns": null,
      "grid_auto_flow": null,
      "grid_auto_rows": null,
      "grid_column": null,
      "grid_gap": null,
      "grid_row": null,
      "grid_template_areas": null,
      "grid_template_columns": null,
      "grid_template_rows": null,
      "height": null,
      "justify_content": null,
      "justify_items": null,
      "left": null,
      "margin": null,
      "max_height": null,
      "max_width": null,
      "min_height": null,
      "min_width": null,
      "object_fit": null,
      "object_position": null,
      "order": null,
      "overflow": null,
      "overflow_x": null,
      "overflow_y": null,
      "padding": null,
      "right": null,
      "top": null,
      "visibility": null,
      "width": null
     }
    },
    "44ab4829533c496895bb4574e96a1211": {
     "model_module": "@jupyter-widgets/controls",
     "model_module_version": "1.5.0",
     "model_name": "FloatProgressModel",
     "state": {
      "_dom_classes": [],
      "_model_module": "@jupyter-widgets/controls",
      "_model_module_version": "1.5.0",
      "_model_name": "FloatProgressModel",
      "_view_count": null,
      "_view_module": "@jupyter-widgets/controls",
      "_view_module_version": "1.5.0",
      "_view_name": "ProgressView",
      "bar_style": "success",
      "description": "",
      "description_tooltip": null,
      "layout": "IPY_MODEL_41152c4a83c04599a936df1704285486",
      "max": 28,
      "min": 0,
      "orientation": "horizontal",
      "style": "IPY_MODEL_f7a6030e6eef4e67ad54cdd063204bc8",
      "value": 28
     }
    },
    "4b5f193d3ea64ab1bf8507e3ccfadb19": {
     "model_module": "@jupyter-widgets/controls",
     "model_module_version": "1.5.0",
     "model_name": "FloatProgressModel",
     "state": {
      "_dom_classes": [],
      "_model_module": "@jupyter-widgets/controls",
      "_model_module_version": "1.5.0",
      "_model_name": "FloatProgressModel",
      "_view_count": null,
      "_view_module": "@jupyter-widgets/controls",
      "_view_module_version": "1.5.0",
      "_view_name": "ProgressView",
      "bar_style": "success",
      "description": "",
      "description_tooltip": null,
      "layout": "IPY_MODEL_768a517a24fe49a59fe5bef3286cdb47",
      "max": 231508,
      "min": 0,
      "orientation": "horizontal",
      "style": "IPY_MODEL_d5339b89bb424650aaa9c4718b152010",
      "value": 231508
     }
    },
    "4cd5b36be95541aa9bd0e21b88ecbb1d": {
     "model_module": "@jupyter-widgets/controls",
     "model_module_version": "1.5.0",
     "model_name": "DescriptionStyleModel",
     "state": {
      "_model_module": "@jupyter-widgets/controls",
      "_model_module_version": "1.5.0",
      "_model_name": "DescriptionStyleModel",
      "_view_count": null,
      "_view_module": "@jupyter-widgets/base",
      "_view_module_version": "1.2.0",
      "_view_name": "StyleView",
      "description_width": ""
     }
    },
    "4e873676518c40009b91d1e0e3919156": {
     "model_module": "@jupyter-widgets/base",
     "model_module_version": "1.2.0",
     "model_name": "LayoutModel",
     "state": {
      "_model_module": "@jupyter-widgets/base",
      "_model_module_version": "1.2.0",
      "_model_name": "LayoutModel",
      "_view_count": null,
      "_view_module": "@jupyter-widgets/base",
      "_view_module_version": "1.2.0",
      "_view_name": "LayoutView",
      "align_content": null,
      "align_items": null,
      "align_self": null,
      "border": null,
      "bottom": null,
      "display": null,
      "flex": null,
      "flex_flow": null,
      "grid_area": null,
      "grid_auto_columns": null,
      "grid_auto_flow": null,
      "grid_auto_rows": null,
      "grid_column": null,
      "grid_gap": null,
      "grid_row": null,
      "grid_template_areas": null,
      "grid_template_columns": null,
      "grid_template_rows": null,
      "height": null,
      "justify_content": null,
      "justify_items": null,
      "left": null,
      "margin": null,
      "max_height": null,
      "max_width": null,
      "min_height": null,
      "min_width": null,
      "object_fit": null,
      "object_position": null,
      "order": null,
      "overflow": null,
      "overflow_x": null,
      "overflow_y": null,
      "padding": null,
      "right": null,
      "top": null,
      "visibility": null,
      "width": null
     }
    },
    "63ec30c70ede40759ee5f697833ec2bb": {
     "model_module": "@jupyter-widgets/controls",
     "model_module_version": "1.5.0",
     "model_name": "DescriptionStyleModel",
     "state": {
      "_model_module": "@jupyter-widgets/controls",
      "_model_module_version": "1.5.0",
      "_model_name": "DescriptionStyleModel",
      "_view_count": null,
      "_view_module": "@jupyter-widgets/base",
      "_view_module_version": "1.2.0",
      "_view_name": "StyleView",
      "description_width": ""
     }
    },
    "63fe40847f2a43be8b98029136356d39": {
     "model_module": "@jupyter-widgets/controls",
     "model_module_version": "1.5.0",
     "model_name": "HTMLModel",
     "state": {
      "_dom_classes": [],
      "_model_module": "@jupyter-widgets/controls",
      "_model_module_version": "1.5.0",
      "_model_name": "HTMLModel",
      "_view_count": null,
      "_view_module": "@jupyter-widgets/controls",
      "_view_module_version": "1.5.0",
      "_view_name": "HTMLView",
      "description": "",
      "description_tooltip": null,
      "layout": "IPY_MODEL_f6eeac8efaf342cfb49ffbf677c6d6cc",
      "placeholder": "​",
      "style": "IPY_MODEL_7547b796298f4951b38b2e1cbfa4cc23",
      "value": "Downloading: 100%"
     }
    },
    "717a61d0a79649ebb5175a3f7c7b324d": {
     "model_module": "@jupyter-widgets/controls",
     "model_module_version": "1.5.0",
     "model_name": "HTMLModel",
     "state": {
      "_dom_classes": [],
      "_model_module": "@jupyter-widgets/controls",
      "_model_module_version": "1.5.0",
      "_model_name": "HTMLModel",
      "_view_count": null,
      "_view_module": "@jupyter-widgets/controls",
      "_view_module_version": "1.5.0",
      "_view_name": "HTMLView",
      "description": "",
      "description_tooltip": null,
      "layout": "IPY_MODEL_c71e1a867a284568be1df1d5fabf3c97",
      "placeholder": "​",
      "style": "IPY_MODEL_081fe39dcbcd459b8e7a8f0f151c22e1",
      "value": "Downloading: 100%"
     }
    },
    "71a5de74963c4236826e62443feb567a": {
     "model_module": "@jupyter-widgets/controls",
     "model_module_version": "1.5.0",
     "model_name": "HTMLModel",
     "state": {
      "_dom_classes": [],
      "_model_module": "@jupyter-widgets/controls",
      "_model_module_version": "1.5.0",
      "_model_name": "HTMLModel",
      "_view_count": null,
      "_view_module": "@jupyter-widgets/controls",
      "_view_module_version": "1.5.0",
      "_view_name": "HTMLView",
      "description": "",
      "description_tooltip": null,
      "layout": "IPY_MODEL_d5a8ba35db4d458b813dadc78677f6b4",
      "placeholder": "​",
      "style": "IPY_MODEL_3a0de9bd2c5a4da4bb07f80d389b1b1e",
      "value": "Downloading: 100%"
     }
    },
    "7547b796298f4951b38b2e1cbfa4cc23": {
     "model_module": "@jupyter-widgets/controls",
     "model_module_version": "1.5.0",
     "model_name": "DescriptionStyleModel",
     "state": {
      "_model_module": "@jupyter-widgets/controls",
      "_model_module_version": "1.5.0",
      "_model_name": "DescriptionStyleModel",
      "_view_count": null,
      "_view_module": "@jupyter-widgets/base",
      "_view_module_version": "1.2.0",
      "_view_name": "StyleView",
      "description_width": ""
     }
    },
    "768a517a24fe49a59fe5bef3286cdb47": {
     "model_module": "@jupyter-widgets/base",
     "model_module_version": "1.2.0",
     "model_name": "LayoutModel",
     "state": {
      "_model_module": "@jupyter-widgets/base",
      "_model_module_version": "1.2.0",
      "_model_name": "LayoutModel",
      "_view_count": null,
      "_view_module": "@jupyter-widgets/base",
      "_view_module_version": "1.2.0",
      "_view_name": "LayoutView",
      "align_content": null,
      "align_items": null,
      "align_self": null,
      "border": null,
      "bottom": null,
      "display": null,
      "flex": null,
      "flex_flow": null,
      "grid_area": null,
      "grid_auto_columns": null,
      "grid_auto_flow": null,
      "grid_auto_rows": null,
      "grid_column": null,
      "grid_gap": null,
      "grid_row": null,
      "grid_template_areas": null,
      "grid_template_columns": null,
      "grid_template_rows": null,
      "height": null,
      "justify_content": null,
      "justify_items": null,
      "left": null,
      "margin": null,
      "max_height": null,
      "max_width": null,
      "min_height": null,
      "min_width": null,
      "object_fit": null,
      "object_position": null,
      "order": null,
      "overflow": null,
      "overflow_x": null,
      "overflow_y": null,
      "padding": null,
      "right": null,
      "top": null,
      "visibility": null,
      "width": null
     }
    },
    "78e10d18a2224f93a6a13c6b844097a3": {
     "model_module": "@jupyter-widgets/base",
     "model_module_version": "1.2.0",
     "model_name": "LayoutModel",
     "state": {
      "_model_module": "@jupyter-widgets/base",
      "_model_module_version": "1.2.0",
      "_model_name": "LayoutModel",
      "_view_count": null,
      "_view_module": "@jupyter-widgets/base",
      "_view_module_version": "1.2.0",
      "_view_name": "LayoutView",
      "align_content": null,
      "align_items": null,
      "align_self": null,
      "border": null,
      "bottom": null,
      "display": null,
      "flex": null,
      "flex_flow": null,
      "grid_area": null,
      "grid_auto_columns": null,
      "grid_auto_flow": null,
      "grid_auto_rows": null,
      "grid_column": null,
      "grid_gap": null,
      "grid_row": null,
      "grid_template_areas": null,
      "grid_template_columns": null,
      "grid_template_rows": null,
      "height": null,
      "justify_content": null,
      "justify_items": null,
      "left": null,
      "margin": null,
      "max_height": null,
      "max_width": null,
      "min_height": null,
      "min_width": null,
      "object_fit": null,
      "object_position": null,
      "order": null,
      "overflow": null,
      "overflow_x": null,
      "overflow_y": null,
      "padding": null,
      "right": null,
      "top": null,
      "visibility": null,
      "width": null
     }
    },
    "7b847c6e8c76439d8737a088bf9bccd7": {
     "model_module": "@jupyter-widgets/controls",
     "model_module_version": "1.5.0",
     "model_name": "HTMLModel",
     "state": {
      "_dom_classes": [],
      "_model_module": "@jupyter-widgets/controls",
      "_model_module_version": "1.5.0",
      "_model_name": "HTMLModel",
      "_view_count": null,
      "_view_module": "@jupyter-widgets/controls",
      "_view_module_version": "1.5.0",
      "_view_name": "HTMLView",
      "description": "",
      "description_tooltip": null,
      "layout": "IPY_MODEL_a7614eeb91334f57bdd33bc520417ba1",
      "placeholder": "​",
      "style": "IPY_MODEL_f5127e279c8845a3aae6b3676c232d64",
      "value": " 570/570 [00:00&lt;00:00, 21.5kB/s]"
     }
    },
    "847e6b77b12a402786b22b17a3c1426d": {
     "model_module": "@jupyter-widgets/controls",
     "model_module_version": "1.5.0",
     "model_name": "FloatProgressModel",
     "state": {
      "_dom_classes": [],
      "_model_module": "@jupyter-widgets/controls",
      "_model_module_version": "1.5.0",
      "_model_name": "FloatProgressModel",
      "_view_count": null,
      "_view_module": "@jupyter-widgets/controls",
      "_view_module_version": "1.5.0",
      "_view_name": "ProgressView",
      "bar_style": "success",
      "description": "",
      "description_tooltip": null,
      "layout": "IPY_MODEL_f1d1dc93448443dcabdf0bb74bcd8c00",
      "max": 466062,
      "min": 0,
      "orientation": "horizontal",
      "style": "IPY_MODEL_2c5b4f47df1b4d0c97383de2676a0c91",
      "value": 466062
     }
    },
    "8628626cdb6b429c8bd46515911500db": {
     "model_module": "@jupyter-widgets/controls",
     "model_module_version": "1.5.0",
     "model_name": "HTMLModel",
     "state": {
      "_dom_classes": [],
      "_model_module": "@jupyter-widgets/controls",
      "_model_module_version": "1.5.0",
      "_model_name": "HTMLModel",
      "_view_count": null,
      "_view_module": "@jupyter-widgets/controls",
      "_view_module_version": "1.5.0",
      "_view_name": "HTMLView",
      "description": "",
      "description_tooltip": null,
      "layout": "IPY_MODEL_d827635d32854157ba985a9d12fce9d7",
      "placeholder": "​",
      "style": "IPY_MODEL_36a6536ac57e484f9686251e168806bd",
      "value": " 28.0/28.0 [00:00&lt;00:00, 1.02kB/s]"
     }
    },
    "8ad4d8ffa66841b49e86d1b9359aa944": {
     "model_module": "@jupyter-widgets/controls",
     "model_module_version": "1.5.0",
     "model_name": "HTMLModel",
     "state": {
      "_dom_classes": [],
      "_model_module": "@jupyter-widgets/controls",
      "_model_module_version": "1.5.0",
      "_model_name": "HTMLModel",
      "_view_count": null,
      "_view_module": "@jupyter-widgets/controls",
      "_view_module_version": "1.5.0",
      "_view_name": "HTMLView",
      "description": "",
      "description_tooltip": null,
      "layout": "IPY_MODEL_a4aeb630729545e8b71e67c419c1dafa",
      "placeholder": "​",
      "style": "IPY_MODEL_1e1131adf2da4aaab83fd546686839af",
      "value": "Downloading: 100%"
     }
    },
    "8eeece4868cc45f6af77fe3225042a96": {
     "model_module": "@jupyter-widgets/base",
     "model_module_version": "1.2.0",
     "model_name": "LayoutModel",
     "state": {
      "_model_module": "@jupyter-widgets/base",
      "_model_module_version": "1.2.0",
      "_model_name": "LayoutModel",
      "_view_count": null,
      "_view_module": "@jupyter-widgets/base",
      "_view_module_version": "1.2.0",
      "_view_name": "LayoutView",
      "align_content": null,
      "align_items": null,
      "align_self": null,
      "border": null,
      "bottom": null,
      "display": null,
      "flex": null,
      "flex_flow": null,
      "grid_area": null,
      "grid_auto_columns": null,
      "grid_auto_flow": null,
      "grid_auto_rows": null,
      "grid_column": null,
      "grid_gap": null,
      "grid_row": null,
      "grid_template_areas": null,
      "grid_template_columns": null,
      "grid_template_rows": null,
      "height": null,
      "justify_content": null,
      "justify_items": null,
      "left": null,
      "margin": null,
      "max_height": null,
      "max_width": null,
      "min_height": null,
      "min_width": null,
      "object_fit": null,
      "object_position": null,
      "order": null,
      "overflow": null,
      "overflow_x": null,
      "overflow_y": null,
      "padding": null,
      "right": null,
      "top": null,
      "visibility": null,
      "width": null
     }
    },
    "9fd143ee31fb4ffea5f00e9d29a06ab9": {
     "model_module": "@jupyter-widgets/controls",
     "model_module_version": "1.5.0",
     "model_name": "HTMLModel",
     "state": {
      "_dom_classes": [],
      "_model_module": "@jupyter-widgets/controls",
      "_model_module_version": "1.5.0",
      "_model_name": "HTMLModel",
      "_view_count": null,
      "_view_module": "@jupyter-widgets/controls",
      "_view_module_version": "1.5.0",
      "_view_name": "HTMLView",
      "description": "",
      "description_tooltip": null,
      "layout": "IPY_MODEL_8eeece4868cc45f6af77fe3225042a96",
      "placeholder": "​",
      "style": "IPY_MODEL_4cd5b36be95541aa9bd0e21b88ecbb1d",
      "value": " 455k/455k [00:00&lt;00:00, 1.69MB/s]"
     }
    },
    "a0c72a3a42c840e8a64c3c830487f709": {
     "model_module": "@jupyter-widgets/controls",
     "model_module_version": "1.5.0",
     "model_name": "HBoxModel",
     "state": {
      "_dom_classes": [],
      "_model_module": "@jupyter-widgets/controls",
      "_model_module_version": "1.5.0",
      "_model_name": "HBoxModel",
      "_view_count": null,
      "_view_module": "@jupyter-widgets/controls",
      "_view_module_version": "1.5.0",
      "_view_name": "HBoxView",
      "box_style": "",
      "children": [
       "IPY_MODEL_8ad4d8ffa66841b49e86d1b9359aa944",
       "IPY_MODEL_aca0f38535834f24bd7dce387fb0e05e",
       "IPY_MODEL_7b847c6e8c76439d8737a088bf9bccd7"
      ],
      "layout": "IPY_MODEL_f4ef55369f384311852d85dc8e614339"
     }
    },
    "a4aeb630729545e8b71e67c419c1dafa": {
     "model_module": "@jupyter-widgets/base",
     "model_module_version": "1.2.0",
     "model_name": "LayoutModel",
     "state": {
      "_model_module": "@jupyter-widgets/base",
      "_model_module_version": "1.2.0",
      "_model_name": "LayoutModel",
      "_view_count": null,
      "_view_module": "@jupyter-widgets/base",
      "_view_module_version": "1.2.0",
      "_view_name": "LayoutView",
      "align_content": null,
      "align_items": null,
      "align_self": null,
      "border": null,
      "bottom": null,
      "display": null,
      "flex": null,
      "flex_flow": null,
      "grid_area": null,
      "grid_auto_columns": null,
      "grid_auto_flow": null,
      "grid_auto_rows": null,
      "grid_column": null,
      "grid_gap": null,
      "grid_row": null,
      "grid_template_areas": null,
      "grid_template_columns": null,
      "grid_template_rows": null,
      "height": null,
      "justify_content": null,
      "justify_items": null,
      "left": null,
      "margin": null,
      "max_height": null,
      "max_width": null,
      "min_height": null,
      "min_width": null,
      "object_fit": null,
      "object_position": null,
      "order": null,
      "overflow": null,
      "overflow_x": null,
      "overflow_y": null,
      "padding": null,
      "right": null,
      "top": null,
      "visibility": null,
      "width": null
     }
    },
    "a7614eeb91334f57bdd33bc520417ba1": {
     "model_module": "@jupyter-widgets/base",
     "model_module_version": "1.2.0",
     "model_name": "LayoutModel",
     "state": {
      "_model_module": "@jupyter-widgets/base",
      "_model_module_version": "1.2.0",
      "_model_name": "LayoutModel",
      "_view_count": null,
      "_view_module": "@jupyter-widgets/base",
      "_view_module_version": "1.2.0",
      "_view_name": "LayoutView",
      "align_content": null,
      "align_items": null,
      "align_self": null,
      "border": null,
      "bottom": null,
      "display": null,
      "flex": null,
      "flex_flow": null,
      "grid_area": null,
      "grid_auto_columns": null,
      "grid_auto_flow": null,
      "grid_auto_rows": null,
      "grid_column": null,
      "grid_gap": null,
      "grid_row": null,
      "grid_template_areas": null,
      "grid_template_columns": null,
      "grid_template_rows": null,
      "height": null,
      "justify_content": null,
      "justify_items": null,
      "left": null,
      "margin": null,
      "max_height": null,
      "max_width": null,
      "min_height": null,
      "min_width": null,
      "object_fit": null,
      "object_position": null,
      "order": null,
      "overflow": null,
      "overflow_x": null,
      "overflow_y": null,
      "padding": null,
      "right": null,
      "top": null,
      "visibility": null,
      "width": null
     }
    },
    "aca0f38535834f24bd7dce387fb0e05e": {
     "model_module": "@jupyter-widgets/controls",
     "model_module_version": "1.5.0",
     "model_name": "FloatProgressModel",
     "state": {
      "_dom_classes": [],
      "_model_module": "@jupyter-widgets/controls",
      "_model_module_version": "1.5.0",
      "_model_name": "FloatProgressModel",
      "_view_count": null,
      "_view_module": "@jupyter-widgets/controls",
      "_view_module_version": "1.5.0",
      "_view_name": "ProgressView",
      "bar_style": "success",
      "description": "",
      "description_tooltip": null,
      "layout": "IPY_MODEL_346d86da1e314ec4a39d1c027c084306",
      "max": 570,
      "min": 0,
      "orientation": "horizontal",
      "style": "IPY_MODEL_12cf826033bb48b2987c04aecfc12fb0",
      "value": 570
     }
    },
    "c71e1a867a284568be1df1d5fabf3c97": {
     "model_module": "@jupyter-widgets/base",
     "model_module_version": "1.2.0",
     "model_name": "LayoutModel",
     "state": {
      "_model_module": "@jupyter-widgets/base",
      "_model_module_version": "1.2.0",
      "_model_name": "LayoutModel",
      "_view_count": null,
      "_view_module": "@jupyter-widgets/base",
      "_view_module_version": "1.2.0",
      "_view_name": "LayoutView",
      "align_content": null,
      "align_items": null,
      "align_self": null,
      "border": null,
      "bottom": null,
      "display": null,
      "flex": null,
      "flex_flow": null,
      "grid_area": null,
      "grid_auto_columns": null,
      "grid_auto_flow": null,
      "grid_auto_rows": null,
      "grid_column": null,
      "grid_gap": null,
      "grid_row": null,
      "grid_template_areas": null,
      "grid_template_columns": null,
      "grid_template_rows": null,
      "height": null,
      "justify_content": null,
      "justify_items": null,
      "left": null,
      "margin": null,
      "max_height": null,
      "max_width": null,
      "min_height": null,
      "min_width": null,
      "object_fit": null,
      "object_position": null,
      "order": null,
      "overflow": null,
      "overflow_x": null,
      "overflow_y": null,
      "padding": null,
      "right": null,
      "top": null,
      "visibility": null,
      "width": null
     }
    },
    "c7abdd57aae448659635420f902db5fb": {
     "model_module": "@jupyter-widgets/controls",
     "model_module_version": "1.5.0",
     "model_name": "HTMLModel",
     "state": {
      "_dom_classes": [],
      "_model_module": "@jupyter-widgets/controls",
      "_model_module_version": "1.5.0",
      "_model_name": "HTMLModel",
      "_view_count": null,
      "_view_module": "@jupyter-widgets/controls",
      "_view_module_version": "1.5.0",
      "_view_name": "HTMLView",
      "description": "",
      "description_tooltip": null,
      "layout": "IPY_MODEL_4e873676518c40009b91d1e0e3919156",
      "placeholder": "​",
      "style": "IPY_MODEL_63ec30c70ede40759ee5f697833ec2bb",
      "value": " 226k/226k [00:00&lt;00:00, 1.55MB/s]"
     }
    },
    "d03dec07a80a4e0eaf95e1324c3c01d3": {
     "model_module": "@jupyter-widgets/controls",
     "model_module_version": "1.5.0",
     "model_name": "HBoxModel",
     "state": {
      "_dom_classes": [],
      "_model_module": "@jupyter-widgets/controls",
      "_model_module_version": "1.5.0",
      "_model_name": "HBoxModel",
      "_view_count": null,
      "_view_module": "@jupyter-widgets/controls",
      "_view_module_version": "1.5.0",
      "_view_name": "HBoxView",
      "box_style": "",
      "children": [
       "IPY_MODEL_63fe40847f2a43be8b98029136356d39",
       "IPY_MODEL_44ab4829533c496895bb4574e96a1211",
       "IPY_MODEL_8628626cdb6b429c8bd46515911500db"
      ],
      "layout": "IPY_MODEL_3392d659056b4c379dc204a4e516eee9"
     }
    },
    "d2b3833995234fdfba648011c35a827f": {
     "model_module": "@jupyter-widgets/controls",
     "model_module_version": "1.5.0",
     "model_name": "HBoxModel",
     "state": {
      "_dom_classes": [],
      "_model_module": "@jupyter-widgets/controls",
      "_model_module_version": "1.5.0",
      "_model_name": "HBoxModel",
      "_view_count": null,
      "_view_module": "@jupyter-widgets/controls",
      "_view_module_version": "1.5.0",
      "_view_name": "HBoxView",
      "box_style": "",
      "children": [
       "IPY_MODEL_717a61d0a79649ebb5175a3f7c7b324d",
       "IPY_MODEL_847e6b77b12a402786b22b17a3c1426d",
       "IPY_MODEL_9fd143ee31fb4ffea5f00e9d29a06ab9"
      ],
      "layout": "IPY_MODEL_78e10d18a2224f93a6a13c6b844097a3"
     }
    },
    "d5339b89bb424650aaa9c4718b152010": {
     "model_module": "@jupyter-widgets/controls",
     "model_module_version": "1.5.0",
     "model_name": "ProgressStyleModel",
     "state": {
      "_model_module": "@jupyter-widgets/controls",
      "_model_module_version": "1.5.0",
      "_model_name": "ProgressStyleModel",
      "_view_count": null,
      "_view_module": "@jupyter-widgets/base",
      "_view_module_version": "1.2.0",
      "_view_name": "StyleView",
      "bar_color": null,
      "description_width": ""
     }
    },
    "d5a8ba35db4d458b813dadc78677f6b4": {
     "model_module": "@jupyter-widgets/base",
     "model_module_version": "1.2.0",
     "model_name": "LayoutModel",
     "state": {
      "_model_module": "@jupyter-widgets/base",
      "_model_module_version": "1.2.0",
      "_model_name": "LayoutModel",
      "_view_count": null,
      "_view_module": "@jupyter-widgets/base",
      "_view_module_version": "1.2.0",
      "_view_name": "LayoutView",
      "align_content": null,
      "align_items": null,
      "align_self": null,
      "border": null,
      "bottom": null,
      "display": null,
      "flex": null,
      "flex_flow": null,
      "grid_area": null,
      "grid_auto_columns": null,
      "grid_auto_flow": null,
      "grid_auto_rows": null,
      "grid_column": null,
      "grid_gap": null,
      "grid_row": null,
      "grid_template_areas": null,
      "grid_template_columns": null,
      "grid_template_rows": null,
      "height": null,
      "justify_content": null,
      "justify_items": null,
      "left": null,
      "margin": null,
      "max_height": null,
      "max_width": null,
      "min_height": null,
      "min_width": null,
      "object_fit": null,
      "object_position": null,
      "order": null,
      "overflow": null,
      "overflow_x": null,
      "overflow_y": null,
      "padding": null,
      "right": null,
      "top": null,
      "visibility": null,
      "width": null
     }
    },
    "d827635d32854157ba985a9d12fce9d7": {
     "model_module": "@jupyter-widgets/base",
     "model_module_version": "1.2.0",
     "model_name": "LayoutModel",
     "state": {
      "_model_module": "@jupyter-widgets/base",
      "_model_module_version": "1.2.0",
      "_model_name": "LayoutModel",
      "_view_count": null,
      "_view_module": "@jupyter-widgets/base",
      "_view_module_version": "1.2.0",
      "_view_name": "LayoutView",
      "align_content": null,
      "align_items": null,
      "align_self": null,
      "border": null,
      "bottom": null,
      "display": null,
      "flex": null,
      "flex_flow": null,
      "grid_area": null,
      "grid_auto_columns": null,
      "grid_auto_flow": null,
      "grid_auto_rows": null,
      "grid_column": null,
      "grid_gap": null,
      "grid_row": null,
      "grid_template_areas": null,
      "grid_template_columns": null,
      "grid_template_rows": null,
      "height": null,
      "justify_content": null,
      "justify_items": null,
      "left": null,
      "margin": null,
      "max_height": null,
      "max_width": null,
      "min_height": null,
      "min_width": null,
      "object_fit": null,
      "object_position": null,
      "order": null,
      "overflow": null,
      "overflow_x": null,
      "overflow_y": null,
      "padding": null,
      "right": null,
      "top": null,
      "visibility": null,
      "width": null
     }
    },
    "f1d1dc93448443dcabdf0bb74bcd8c00": {
     "model_module": "@jupyter-widgets/base",
     "model_module_version": "1.2.0",
     "model_name": "LayoutModel",
     "state": {
      "_model_module": "@jupyter-widgets/base",
      "_model_module_version": "1.2.0",
      "_model_name": "LayoutModel",
      "_view_count": null,
      "_view_module": "@jupyter-widgets/base",
      "_view_module_version": "1.2.0",
      "_view_name": "LayoutView",
      "align_content": null,
      "align_items": null,
      "align_self": null,
      "border": null,
      "bottom": null,
      "display": null,
      "flex": null,
      "flex_flow": null,
      "grid_area": null,
      "grid_auto_columns": null,
      "grid_auto_flow": null,
      "grid_auto_rows": null,
      "grid_column": null,
      "grid_gap": null,
      "grid_row": null,
      "grid_template_areas": null,
      "grid_template_columns": null,
      "grid_template_rows": null,
      "height": null,
      "justify_content": null,
      "justify_items": null,
      "left": null,
      "margin": null,
      "max_height": null,
      "max_width": null,
      "min_height": null,
      "min_width": null,
      "object_fit": null,
      "object_position": null,
      "order": null,
      "overflow": null,
      "overflow_x": null,
      "overflow_y": null,
      "padding": null,
      "right": null,
      "top": null,
      "visibility": null,
      "width": null
     }
    },
    "f4ef55369f384311852d85dc8e614339": {
     "model_module": "@jupyter-widgets/base",
     "model_module_version": "1.2.0",
     "model_name": "LayoutModel",
     "state": {
      "_model_module": "@jupyter-widgets/base",
      "_model_module_version": "1.2.0",
      "_model_name": "LayoutModel",
      "_view_count": null,
      "_view_module": "@jupyter-widgets/base",
      "_view_module_version": "1.2.0",
      "_view_name": "LayoutView",
      "align_content": null,
      "align_items": null,
      "align_self": null,
      "border": null,
      "bottom": null,
      "display": null,
      "flex": null,
      "flex_flow": null,
      "grid_area": null,
      "grid_auto_columns": null,
      "grid_auto_flow": null,
      "grid_auto_rows": null,
      "grid_column": null,
      "grid_gap": null,
      "grid_row": null,
      "grid_template_areas": null,
      "grid_template_columns": null,
      "grid_template_rows": null,
      "height": null,
      "justify_content": null,
      "justify_items": null,
      "left": null,
      "margin": null,
      "max_height": null,
      "max_width": null,
      "min_height": null,
      "min_width": null,
      "object_fit": null,
      "object_position": null,
      "order": null,
      "overflow": null,
      "overflow_x": null,
      "overflow_y": null,
      "padding": null,
      "right": null,
      "top": null,
      "visibility": null,
      "width": null
     }
    },
    "f5127e279c8845a3aae6b3676c232d64": {
     "model_module": "@jupyter-widgets/controls",
     "model_module_version": "1.5.0",
     "model_name": "DescriptionStyleModel",
     "state": {
      "_model_module": "@jupyter-widgets/controls",
      "_model_module_version": "1.5.0",
      "_model_name": "DescriptionStyleModel",
      "_view_count": null,
      "_view_module": "@jupyter-widgets/base",
      "_view_module_version": "1.2.0",
      "_view_name": "StyleView",
      "description_width": ""
     }
    },
    "f6eeac8efaf342cfb49ffbf677c6d6cc": {
     "model_module": "@jupyter-widgets/base",
     "model_module_version": "1.2.0",
     "model_name": "LayoutModel",
     "state": {
      "_model_module": "@jupyter-widgets/base",
      "_model_module_version": "1.2.0",
      "_model_name": "LayoutModel",
      "_view_count": null,
      "_view_module": "@jupyter-widgets/base",
      "_view_module_version": "1.2.0",
      "_view_name": "LayoutView",
      "align_content": null,
      "align_items": null,
      "align_self": null,
      "border": null,
      "bottom": null,
      "display": null,
      "flex": null,
      "flex_flow": null,
      "grid_area": null,
      "grid_auto_columns": null,
      "grid_auto_flow": null,
      "grid_auto_rows": null,
      "grid_column": null,
      "grid_gap": null,
      "grid_row": null,
      "grid_template_areas": null,
      "grid_template_columns": null,
      "grid_template_rows": null,
      "height": null,
      "justify_content": null,
      "justify_items": null,
      "left": null,
      "margin": null,
      "max_height": null,
      "max_width": null,
      "min_height": null,
      "min_width": null,
      "object_fit": null,
      "object_position": null,
      "order": null,
      "overflow": null,
      "overflow_x": null,
      "overflow_y": null,
      "padding": null,
      "right": null,
      "top": null,
      "visibility": null,
      "width": null
     }
    },
    "f7a6030e6eef4e67ad54cdd063204bc8": {
     "model_module": "@jupyter-widgets/controls",
     "model_module_version": "1.5.0",
     "model_name": "ProgressStyleModel",
     "state": {
      "_model_module": "@jupyter-widgets/controls",
      "_model_module_version": "1.5.0",
      "_model_name": "ProgressStyleModel",
      "_view_count": null,
      "_view_module": "@jupyter-widgets/base",
      "_view_module_version": "1.2.0",
      "_view_name": "StyleView",
      "bar_color": null,
      "description_width": ""
     }
    }
   }
  }
 },
 "nbformat": 4,
 "nbformat_minor": 5
}
